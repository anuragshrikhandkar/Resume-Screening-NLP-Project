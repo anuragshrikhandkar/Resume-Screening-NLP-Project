{
  "nbformat": 4,
  "nbformat_minor": 0,
  "metadata": {
    "colab": {
      "provenance": [],
      "authorship_tag": "ABX9TyPd2cVb3qrEsHJC/DehkFXL",
      "include_colab_link": true
    },
    "kernelspec": {
      "name": "python3",
      "display_name": "Python 3"
    },
    "language_info": {
      "name": "python"
    }
  },
  "cells": [
    {
      "cell_type": "markdown",
      "metadata": {
        "id": "view-in-github",
        "colab_type": "text"
      },
      "source": [
        "<a href=\"https://colab.research.google.com/github/anuragshrikhandkar/Resume-Screening-NLP-Project/blob/main/resume_screening_app_NLP_project.ipynb\" target=\"_parent\"><img src=\"https://colab.research.google.com/assets/colab-badge.svg\" alt=\"Open In Colab\"/></a>"
      ]
    },
    {
      "cell_type": "code",
      "execution_count": 60,
      "metadata": {
        "id": "loN7YW0NRknl"
      },
      "outputs": [],
      "source": [
        "import pandas as pd\n",
        "import numpy as np\n",
        "import matplotlib.pyplot as plt\n",
        "import seaborn as sns"
      ]
    },
    {
      "cell_type": "code",
      "source": [
        "df=pd.read_csv(\"/content/final_merged_dataset2.csv (1).zip\")"
      ],
      "metadata": {
        "id": "EJ0y_aiyQvw3"
      },
      "execution_count": 61,
      "outputs": []
    },
    {
      "cell_type": "code",
      "source": [
        "df.sample(6)\n",
        "#data cleaning"
      ],
      "metadata": {
        "colab": {
          "base_uri": "https://localhost:8080/",
          "height": 237
        },
        "id": "_5QSjewzQ3Av",
        "outputId": "80e2da41-af47-475f-bfe7-ee55d78ec911"
      },
      "execution_count": 62,
      "outputs": [
        {
          "output_type": "execute_result",
          "data": {
            "text/plain": [
              "                                                 Resume               Category\n",
              "223   Python Developer Python Developer Sr. Python D...       Python_Developer\n",
              "2875  React Developer React Developer React Develope...    Front_End_Developer\n",
              "4742  Security Analyst Security Analyst Security Ana...       Security_Analyst\n",
              "6213  Systems Administrator Systems Administrator Sy...  Systems_Administrator\n",
              "5031  Information Security Analyst Information Secur...       Security_Analyst\n",
              "3639  LEAD BUSINESS ANALYST-SCRUM MASTER LEAD BUSINE...        Project_manager"
            ],
            "text/html": [
              "\n",
              "  <div id=\"df-74b7d2dc-f11f-4ded-85bc-4cdc16768d3d\" class=\"colab-df-container\">\n",
              "    <div>\n",
              "<style scoped>\n",
              "    .dataframe tbody tr th:only-of-type {\n",
              "        vertical-align: middle;\n",
              "    }\n",
              "\n",
              "    .dataframe tbody tr th {\n",
              "        vertical-align: top;\n",
              "    }\n",
              "\n",
              "    .dataframe thead th {\n",
              "        text-align: right;\n",
              "    }\n",
              "</style>\n",
              "<table border=\"1\" class=\"dataframe\">\n",
              "  <thead>\n",
              "    <tr style=\"text-align: right;\">\n",
              "      <th></th>\n",
              "      <th>Resume</th>\n",
              "      <th>Category</th>\n",
              "    </tr>\n",
              "  </thead>\n",
              "  <tbody>\n",
              "    <tr>\n",
              "      <th>223</th>\n",
              "      <td>Python Developer Python Developer Sr. Python D...</td>\n",
              "      <td>Python_Developer</td>\n",
              "    </tr>\n",
              "    <tr>\n",
              "      <th>2875</th>\n",
              "      <td>React Developer React Developer React Develope...</td>\n",
              "      <td>Front_End_Developer</td>\n",
              "    </tr>\n",
              "    <tr>\n",
              "      <th>4742</th>\n",
              "      <td>Security Analyst Security Analyst Security Ana...</td>\n",
              "      <td>Security_Analyst</td>\n",
              "    </tr>\n",
              "    <tr>\n",
              "      <th>6213</th>\n",
              "      <td>Systems Administrator Systems Administrator Sy...</td>\n",
              "      <td>Systems_Administrator</td>\n",
              "    </tr>\n",
              "    <tr>\n",
              "      <th>5031</th>\n",
              "      <td>Information Security Analyst Information Secur...</td>\n",
              "      <td>Security_Analyst</td>\n",
              "    </tr>\n",
              "    <tr>\n",
              "      <th>3639</th>\n",
              "      <td>LEAD BUSINESS ANALYST-SCRUM MASTER LEAD BUSINE...</td>\n",
              "      <td>Project_manager</td>\n",
              "    </tr>\n",
              "  </tbody>\n",
              "</table>\n",
              "</div>\n",
              "    <div class=\"colab-df-buttons\">\n",
              "\n",
              "  <div class=\"colab-df-container\">\n",
              "    <button class=\"colab-df-convert\" onclick=\"convertToInteractive('df-74b7d2dc-f11f-4ded-85bc-4cdc16768d3d')\"\n",
              "            title=\"Convert this dataframe to an interactive table.\"\n",
              "            style=\"display:none;\">\n",
              "\n",
              "  <svg xmlns=\"http://www.w3.org/2000/svg\" height=\"24px\" viewBox=\"0 -960 960 960\">\n",
              "    <path d=\"M120-120v-720h720v720H120Zm60-500h600v-160H180v160Zm220 220h160v-160H400v160Zm0 220h160v-160H400v160ZM180-400h160v-160H180v160Zm440 0h160v-160H620v160ZM180-180h160v-160H180v160Zm440 0h160v-160H620v160Z\"/>\n",
              "  </svg>\n",
              "    </button>\n",
              "\n",
              "  <style>\n",
              "    .colab-df-container {\n",
              "      display:flex;\n",
              "      gap: 12px;\n",
              "    }\n",
              "\n",
              "    .colab-df-convert {\n",
              "      background-color: #E8F0FE;\n",
              "      border: none;\n",
              "      border-radius: 50%;\n",
              "      cursor: pointer;\n",
              "      display: none;\n",
              "      fill: #1967D2;\n",
              "      height: 32px;\n",
              "      padding: 0 0 0 0;\n",
              "      width: 32px;\n",
              "    }\n",
              "\n",
              "    .colab-df-convert:hover {\n",
              "      background-color: #E2EBFA;\n",
              "      box-shadow: 0px 1px 2px rgba(60, 64, 67, 0.3), 0px 1px 3px 1px rgba(60, 64, 67, 0.15);\n",
              "      fill: #174EA6;\n",
              "    }\n",
              "\n",
              "    .colab-df-buttons div {\n",
              "      margin-bottom: 4px;\n",
              "    }\n",
              "\n",
              "    [theme=dark] .colab-df-convert {\n",
              "      background-color: #3B4455;\n",
              "      fill: #D2E3FC;\n",
              "    }\n",
              "\n",
              "    [theme=dark] .colab-df-convert:hover {\n",
              "      background-color: #434B5C;\n",
              "      box-shadow: 0px 1px 3px 1px rgba(0, 0, 0, 0.15);\n",
              "      filter: drop-shadow(0px 1px 2px rgba(0, 0, 0, 0.3));\n",
              "      fill: #FFFFFF;\n",
              "    }\n",
              "  </style>\n",
              "\n",
              "    <script>\n",
              "      const buttonEl =\n",
              "        document.querySelector('#df-74b7d2dc-f11f-4ded-85bc-4cdc16768d3d button.colab-df-convert');\n",
              "      buttonEl.style.display =\n",
              "        google.colab.kernel.accessAllowed ? 'block' : 'none';\n",
              "\n",
              "      async function convertToInteractive(key) {\n",
              "        const element = document.querySelector('#df-74b7d2dc-f11f-4ded-85bc-4cdc16768d3d');\n",
              "        const dataTable =\n",
              "          await google.colab.kernel.invokeFunction('convertToInteractive',\n",
              "                                                    [key], {});\n",
              "        if (!dataTable) return;\n",
              "\n",
              "        const docLinkHtml = 'Like what you see? Visit the ' +\n",
              "          '<a target=\"_blank\" href=https://colab.research.google.com/notebooks/data_table.ipynb>data table notebook</a>'\n",
              "          + ' to learn more about interactive tables.';\n",
              "        element.innerHTML = '';\n",
              "        dataTable['output_type'] = 'display_data';\n",
              "        await google.colab.output.renderOutput(dataTable, element);\n",
              "        const docLink = document.createElement('div');\n",
              "        docLink.innerHTML = docLinkHtml;\n",
              "        element.appendChild(docLink);\n",
              "      }\n",
              "    </script>\n",
              "  </div>\n",
              "\n",
              "\n",
              "<div id=\"df-991a10ad-898c-4b3b-b225-76228434d024\">\n",
              "  <button class=\"colab-df-quickchart\" onclick=\"quickchart('df-991a10ad-898c-4b3b-b225-76228434d024')\"\n",
              "            title=\"Suggest charts\"\n",
              "            style=\"display:none;\">\n",
              "\n",
              "<svg xmlns=\"http://www.w3.org/2000/svg\" height=\"24px\"viewBox=\"0 0 24 24\"\n",
              "     width=\"24px\">\n",
              "    <g>\n",
              "        <path d=\"M19 3H5c-1.1 0-2 .9-2 2v14c0 1.1.9 2 2 2h14c1.1 0 2-.9 2-2V5c0-1.1-.9-2-2-2zM9 17H7v-7h2v7zm4 0h-2V7h2v10zm4 0h-2v-4h2v4z\"/>\n",
              "    </g>\n",
              "</svg>\n",
              "  </button>\n",
              "\n",
              "<style>\n",
              "  .colab-df-quickchart {\n",
              "      --bg-color: #E8F0FE;\n",
              "      --fill-color: #1967D2;\n",
              "      --hover-bg-color: #E2EBFA;\n",
              "      --hover-fill-color: #174EA6;\n",
              "      --disabled-fill-color: #AAA;\n",
              "      --disabled-bg-color: #DDD;\n",
              "  }\n",
              "\n",
              "  [theme=dark] .colab-df-quickchart {\n",
              "      --bg-color: #3B4455;\n",
              "      --fill-color: #D2E3FC;\n",
              "      --hover-bg-color: #434B5C;\n",
              "      --hover-fill-color: #FFFFFF;\n",
              "      --disabled-bg-color: #3B4455;\n",
              "      --disabled-fill-color: #666;\n",
              "  }\n",
              "\n",
              "  .colab-df-quickchart {\n",
              "    background-color: var(--bg-color);\n",
              "    border: none;\n",
              "    border-radius: 50%;\n",
              "    cursor: pointer;\n",
              "    display: none;\n",
              "    fill: var(--fill-color);\n",
              "    height: 32px;\n",
              "    padding: 0;\n",
              "    width: 32px;\n",
              "  }\n",
              "\n",
              "  .colab-df-quickchart:hover {\n",
              "    background-color: var(--hover-bg-color);\n",
              "    box-shadow: 0 1px 2px rgba(60, 64, 67, 0.3), 0 1px 3px 1px rgba(60, 64, 67, 0.15);\n",
              "    fill: var(--button-hover-fill-color);\n",
              "  }\n",
              "\n",
              "  .colab-df-quickchart-complete:disabled,\n",
              "  .colab-df-quickchart-complete:disabled:hover {\n",
              "    background-color: var(--disabled-bg-color);\n",
              "    fill: var(--disabled-fill-color);\n",
              "    box-shadow: none;\n",
              "  }\n",
              "\n",
              "  .colab-df-spinner {\n",
              "    border: 2px solid var(--fill-color);\n",
              "    border-color: transparent;\n",
              "    border-bottom-color: var(--fill-color);\n",
              "    animation:\n",
              "      spin 1s steps(1) infinite;\n",
              "  }\n",
              "\n",
              "  @keyframes spin {\n",
              "    0% {\n",
              "      border-color: transparent;\n",
              "      border-bottom-color: var(--fill-color);\n",
              "      border-left-color: var(--fill-color);\n",
              "    }\n",
              "    20% {\n",
              "      border-color: transparent;\n",
              "      border-left-color: var(--fill-color);\n",
              "      border-top-color: var(--fill-color);\n",
              "    }\n",
              "    30% {\n",
              "      border-color: transparent;\n",
              "      border-left-color: var(--fill-color);\n",
              "      border-top-color: var(--fill-color);\n",
              "      border-right-color: var(--fill-color);\n",
              "    }\n",
              "    40% {\n",
              "      border-color: transparent;\n",
              "      border-right-color: var(--fill-color);\n",
              "      border-top-color: var(--fill-color);\n",
              "    }\n",
              "    60% {\n",
              "      border-color: transparent;\n",
              "      border-right-color: var(--fill-color);\n",
              "    }\n",
              "    80% {\n",
              "      border-color: transparent;\n",
              "      border-right-color: var(--fill-color);\n",
              "      border-bottom-color: var(--fill-color);\n",
              "    }\n",
              "    90% {\n",
              "      border-color: transparent;\n",
              "      border-bottom-color: var(--fill-color);\n",
              "    }\n",
              "  }\n",
              "</style>\n",
              "\n",
              "  <script>\n",
              "    async function quickchart(key) {\n",
              "      const quickchartButtonEl =\n",
              "        document.querySelector('#' + key + ' button');\n",
              "      quickchartButtonEl.disabled = true;  // To prevent multiple clicks.\n",
              "      quickchartButtonEl.classList.add('colab-df-spinner');\n",
              "      try {\n",
              "        const charts = await google.colab.kernel.invokeFunction(\n",
              "            'suggestCharts', [key], {});\n",
              "      } catch (error) {\n",
              "        console.error('Error during call to suggestCharts:', error);\n",
              "      }\n",
              "      quickchartButtonEl.classList.remove('colab-df-spinner');\n",
              "      quickchartButtonEl.classList.add('colab-df-quickchart-complete');\n",
              "    }\n",
              "    (() => {\n",
              "      let quickchartButtonEl =\n",
              "        document.querySelector('#df-991a10ad-898c-4b3b-b225-76228434d024 button');\n",
              "      quickchartButtonEl.style.display =\n",
              "        google.colab.kernel.accessAllowed ? 'block' : 'none';\n",
              "    })();\n",
              "  </script>\n",
              "</div>\n",
              "\n",
              "    </div>\n",
              "  </div>\n"
            ],
            "application/vnd.google.colaboratory.intrinsic+json": {
              "type": "dataframe",
              "summary": "{\n  \"name\": \"#data cleaning\",\n  \"rows\": 6,\n  \"fields\": [\n    {\n      \"column\": \"Resume\",\n      \"properties\": {\n        \"dtype\": \"string\",\n        \"num_unique_values\": 6,\n        \"samples\": [\n          \"Python Developer Python Developer Sr. Python Developer - CISCO Systems INC  7+ years of professional experience as a Python Developer, proficient coder in multiple languages and experience in Design, Development, Implementation of Python, Django, Flask, Pyramid and client-server technologies-based applications, RESTful services, AWS, C, C++, JAVA and SQL.  Hands-on-experience on python web application development using Django and Serverless framework.  Worked in Python Integrated Development Environments like NetBeans, PyDev, PyCharm and Sublime Text.  Experienced in developing web-based applications using Python, Django, XML, CSS, HTML and JavaScript.  Experience in developing python scripts for automation and performing functional tests and data validation.  Excellent knowledge of OOPS, Multi-Threading and Collections concepts and in Python. Used Pandas library for Statistical Analysis.  Experience in data analysis and machine learning techniques with hands-on-experience on various python libraries like NumPy/Pandas/SciPy.  Developed web applications and RESTful web services and APIs using Python Flask, Django, Pyramid.  Designed and managed API system deployment using fast http server and Amazon AWS architecture.  Extensive knowledge in relational and non-relational databases MySQL, Cassandra, Mongo db.  Worked with MVW frameworks like Django, Angular JS, HTML, CSS, XML, Java Script, jQuery, Bootstrap, JSON.  Wrote REST APIs in python for large-scale applications.  Experience in building frameworks and automating complex workflows using Python for Test Automation.  Good working Experience in Agile (SCRUM) using Rally and TFS, RUP and Waterfall methodologies with high quality deliverables delivered on-time.  Good at automating repetitive work through Shell scripts and Python.  Experience in Creation and managing user accounts, security, rights, disk space and process monitoring in Solaris and Red hat Linux.  Experience in Building and deploying the applications on OpenShift Pods.  Configured Secrets, config maps, services and routes in OpenShift.  Familiar with JSON based REST Web services and Amazon Web services.  Experienced in developing Web Services with Python programming language.  Working with backend python automation, CI pipelines, Docker and cloud provisioning/automation.  Actively involved in each phase of software Development life cycle (SDLC) and experience in Agile Software Methodology.  Having experience in Agile Methodologies, Scrum stories and sprints experience in a Python based environment and Excel data extracts.  Built all database mapping classes using Django models and Cassandra.  Created the Automation scripts using Python for testing applications as well as the integration of these application (API's &UI's) based on REST calls using Python, phrasing the JSON responses  Performed research to explore and identify new technological platforms.  Created Data layer in MYSQL.  Extracted and loaded data using Python scripts and PL/SQL packages.  Migrated applications to the AWS cloud and Involved in DevOps processes for build and deploy systems.  Build and lead POCs for tools for internal use to support DevOps best practices using Docker for Container based Virtualization and documenting with MS Word and SnagIt.  Worked on creating the Docker containers and Docker consoles for managing the application life.  Actively involved in each phase of Software Development Life Cycle (SDLC) and experience in Agile Software Methodology. Work Experience Python Developer CISCO Systems INC - San Jose, CA March 2017 to Present Responsibilities:  Responsible for gathering requirements, system analysis, design, development, testing and deployment.  Developed Business Logic using Python on Django Web Framework.  Developed views and templates with Python and Django's view controller and templating language to create a user-friendly website interface.  Created Python script to monitor server load performance in production environment and horizontally scale the servers by deploying new instances.  Proficiency with AWS Technologies like (e.g. EC2, RDS, DynamoDB, ELB, Lambda, S3, IAM, CloudWatch, KMS, SNS, SQS)  Wrote Python routines to log into the websites and fetch data for selected options.  Developed entire frontend and backend modules using Python on Django Web Framework.  Used Django Database API's to access database objects.  Used Restful API's with JSON, XML to extract Network traffic information.  Created the Automation scripts using Python for testing applications as well as the integration of these application (API's &UI's) based on REST calls using Python, phrasing the JSON responses.  Implemented RESTful Web Services to retrieve data from client side using Micro Services architecture.  Used JSON based and RESTful API for information extraction.  Experience in working with AWS services like S3, EBL, ESB, Autoscaling, cloud Watch, RDS etc.  Managed large datasets using Panda data frames and PostgreSQL.  Designed and developed data management system using PostgreSQL.  Integrated application with 3rd party APIs (Google, Facebook, Stripe, PayPal, Google's Natural language API)  Creating the API with the Serverless framework, in Python 3.6.  Configured and maintained Jenkins to implement the CI process and integrated the tool with Ant and Maven to  schedule the builds.  Working on MVC architecture using Python, PHP AS controller.  Created reproducible builds of the Kubernetes applications, managed Kubernetes manifest files and Managed releases of Helm packages.  Container management using Docker by writing Docker files and set up the automated build on Docker HUB and installed and configured Kubernetes.  Worked on Agile Methodologies, Scrum stories and sprints experience in a Python based environment.  Used GitHub for Python source code version control, Jenkins for automating the build Docker containers.  Responsible for installing and administrating the SonarQube for code quality check.  Used MySQL as backend database and MySQL dB of python as database connector to interact with MySQL server.  Version control using GitHub.  Involved in writing queries in SparkSQL using Scala.  Involved in writing stored procedures using MySQL. ENVIRONMENT: Python 3, Django, Jenkins, Linux, HTML, CSS, JSON, Restful Web Services, JavaScript, Serverless framework, PostgreSQL, MySQL, Docker, Amazon Web Services (AWS), REST API, SPARK, Jenkins, Eclipse, CloudWatch, GIT, LAMBA, Kubernetes, Docker. Python Developer Santander Bank - Dorchester, MA February 2016 to February 2017 Responsibilities:  Gathering requirements and translating the Business details into Technical design for developing CRITs tool.  Participated in all the stages of software development lifecycle (SDLC) like design, development and implementation and testing.  Developed entire frontend and backend modules using Python on Django Web Framework by implementing MVC architecture.  Implemented first-hand the best/worst practices for integrating Micro Services into existing system architecture.  Micro Services were being used as a strategy to gradually replace a core monolithic application while still adding business features.  Used Pivotal Cloud Foundry to deploy Micro Service applications.  Involved in conducting trainings to user on interact, filter, sort and customize views on an existing visualization generated thru Tableau desktop.  Experience in Data analysis and mapping, creation and usage of metadata.  Utilized Apache Spark with Python to develop and execute Big Data Analytics and Machine learning applications, executed machine Learning use cases under Spark ML.  Data sources are extracted, transformed and loaded to generate CSV data files with Python programming and SQL queries.  Experience in Building and deploying the applications on OpenShift Pods.  Configured Secrets, config maps, services and routes in OpenShift.  Automation of OpenShift operations using Jenkins as orchestrating tool.  Creating Jenkins jobs for automation of Devops tools.  Created Advance connections, join new tables, create & manage Extract and Monitor Queries using SQL Assistant.  Defended the dashboard requirements and provided the best practices/approach to perform ETL and publish data to the reports/dashboards.  Used Python based GUI components for the front-end functionality such as selection criteria. Administration of dedicated collocated RHEL 4 machine and configured complex Apache configuration files.  Familiar with UNIX / Linux internals, basic cryptography & security  Generated graphical reports using python package NumPy and Matplotlib.  Implemented task object to interface with data feed framework and invoke database message service setup and update functionality.  Install and configure IBM HTTP Server, test the installation, map the default application to use the Web Server and regenerate the plug-in configuration file.  Install and configure WebSphere Portal v7.0 in Windows and Linux environment.  Administer WebSphere Message Broker and WebSphere MQ Series Administrations in Windows and Linux environment  Performed efficient delivery of code based on principles of Test Driven Development (TDD) and continuous integration to keep in line with Agile Software Methodology principles.  Created PHP/MySQL back-end for data entry from Flash.  Used Python based GUI components for the front-end functionality such as selection criteria.  Managing Amazon Web Services (AWS) infrastructure with automation and configuration management tools such as uDeploy, Puppet or custom-built. Designing cloud-hosted solutions, specific AWS product suite experience.  Implemented secured way of Centralized login for AWS users using 389 Directory Services (LDAP) and OpenVPN.  Used Amazon Web Services (AWS) for improved efficiency of storage and fast access.  Added support for Amazon AWS S3 and RDS to host static/media files and the database into Amazon Cloud.  Involved in front end and utilized Bootstrap and Angular.js for page design.  Responsible for Plug-in Management, User Management and Backup/Disaster Recovery Plan/Implementation (BDR) on Jenkins. ENVIRONMENT: Python 3.4/2.7, Django 1.7, CherryPy, HTML5, CSS, Bootstrap, JSON, JavaScript, AJAX, RESTful webservice, MongoDB, MySQL, jQuery SQLite, Docker, Windows 12 Server, AWS (EC2, S3), PyUnit, Jenkins, Selenium Automation Testing. Python Developer Illumina Inc - San Diego, CA September 2013 to November 2015 Responsibilities:  Involved in preparing engineering specification with OOA and OOD. Used UML Tools to develop Use Case diagrams, Class diagrams, Collaboration and Sequence Diagrams, State Diagrams and Data Modeling.  Developed application logic using Python, Java script, Java, C++.  Used JMS for updating Mailing plans and tracking them.  Used Java Server Pages for content layout and presentation.  Added support for Amazon AWS S3 and RDS to host static/media files and the database into Amazon Cloud.  Proficient using Python packages such as NumPy, SciPy, Requests, matplotlib, Pickle, Pandas, Fragment.  Developed a fully automated continuous integration system using Git, Jenkins, MySQL and custom tools developed in Python and Bash.  Designed and managed API system deployment using fast http server and Amazon AWS architecture.  Develop consumer-based features and applications using Python, Flask, HTML and Test-Driven Development (TDD)  Used ORM to avoid the duplication of data and reduce the cost of maintenance.  Configured JMS Modules, SAF Agents, SAF Modules using Configuration Management Process using Ansible.  Setting up continuous integration and formal builds using Jenkins with GIT repository.  Also used Bootstrap and Angular.js as a mechanism to manage and organize the HTML page layout.  Wrote python scripts to parse XML documents and load the data in database.  Built front-end SPA using CSHTML, AngularJS and bootstrap and back-end using ASP.NET MVC and Web API.  Helped implement the DAL layer of Web API using Entity Framework 5.  Experienced in designing and deployment of Hadoop cluster and various Big Data Analytic tools including PIG, HIVE, Spark, Kafka, Oozie, Sqoop, Impala with Horton works distribution.  Performed source data transformations using HIVE. ENVIRONMENT: Java, Python, JavaScript, HTML/CSS, MySQL, PL/SQL, JDBC, Jenkins, Unix Shell Scripting, Angular JS, TCP/IP, UDP, SNMP, GIT, Red Hat Linux, AWS, Ansible. Education Bachelor's Skills JAVASCRIPT (7 years), LINUX (7 years), MYSQL (7 years), PYTHON (7 years), DATABASE (6 years), Git Additional Information TECHNICAL SKILLS:  Languages C, C++, Python, JavaScript, PHP, XML, JAVA, SQL SCM Tools Subversion, Perforce, Jenkins/Hudson, Sonar, Jira, TFS, Confluence, Clear Case, GIT, GitHub Build Tools Ant, Maven, Make Operating Systems UNIX, Linux, Solaris, Windows, DOS, VMware Protocols OSI Reference Model, IPv4 and IPv6 addressing and subnetting, Ethernet LAN, TCP/IP, DNS, HTTP, NFS, SSL, SSH, UDP, switches, routing concepts, virtual network concepts including VLANs, TCP/IP stack for virtualization, IPVP4, IPV6, FTP, Intranet  Database PostgreSQL, MS Access, SQL Server, MYSQL and Sybase, Oracle, DB2, JDBC, ODBC Application Servers Web logic, JBoss, IBM WebSphere, Apache tomcat5.5, IIS Issue Tracking Tools ATLASSIAN JIRA, BUGZILLA, Mantis, Service Now Delivery Tools Saltstack, Chef & Puppet\",\n          \"React Developer React Developer React Developer - CDK Global Portland, OR  6 Years of Experience in developing web applications and interactive software products using HTML, CSS, LESS, JavaScript, jQuery, Angular2, AngularJS, Node.js, React.JS, Redux, Lerna, Storybook, Socket IO, mongoDB.  Experience working in Node.js, Express.js, NGiNX, and Redis.  Involved in writing application level code to interact with APIs, RESTFUL Web Services.  Experience in working with different State Management Tools such as Redux, Flux.  Used JIRA for bug tracking and issue tracking.  Experience in version control tools including GIT and SVN.  Designed and coded application components in an agile environment utilizing a test-driven development approach.  Experience in deploying and configuring multi-tier enterprise applications on multiple cloud servers such as AWS, Digital Ocean.  Working knowledge of popular Service management systems like Jenkins.  Worked in close cooperation with project managers and other functional team members to form a team effort in development.  Involved in daily SCRUM meetings to keep track of the ongoing project status and issues.  Expertise in analyzing the DOM Layout, JavaScript functions, Cascading Styles across cross-browser using Firebug, Developer Tool Bar.  Involved in daily SCRUM meetings to keep track of the ongoing project status and issues.  Highly motivated, reliable analytical problem solver and troubleshooter with strong attention to detail.  Expert in creating Templates, Mockups and Prototypes, Web Interfaces, Layouts and Flow of future pages.  Experience working on CSS Background, CSS Positioning, CSS Text, CSS Border, CSS Margin, CSS Padding, CSS Table, Pseudo Classes, Pseudo Elements and CSS Behaviors in CSS.  Experience using AJAX to create interactive web applications, mainly focusing at increasing performance.  Involved in writing application level code to interact with APIs, RESTFUL Web Services using AJAX, JSON.  Highly motivated, reliable analytical problem solver and troubleshooter with strong attention to detail. Authorized to work in the US for any employer Work Experience React Developer CDK Global - Portland, OR October 2018 to Present Responsibilities:  Developing and Packaging reusable React Components to serve different pages in the project.  Building UI Component Library for project and updating them to private npm package repository.  Responsible for code review of every pull request to the project repository.  Used JIRA to keep track of outstanding bugs to increase productivity, and improve communication  Performance tuning the Web App using the chrome dev tools and Monitor the Critical Rendering Path.  Configured front end packaging tools such as Webpack, babel.  Developed a front-end web application using HTML 5, CSS3, JavaScript, React.js, Redux, ES6 and NPM.  Involving in implementing various screens for the front end using React.js and used various predefined components from NPM (Node Package Manager) and redux library.  Working in using React JS components, Forms, Events, Keys, Router, Animations, and Redux concept.  Implemented stable React components and stand-alone functions to be added to any future pages.  Responsible for React UI and architecture. Building components library, including Tree, Slide- View, and Table Grid.  Using React JS for templating for faster compilation and developing reusable components.  Utilized LESS preprocessors of CSS to extend CSS with variables, operators, interpolations, functions and many more other usable assets  Integrated React and Redux to keep track of application state with stores and designed components with dispatched actions that manipulate objects with actions.  Environment: React JS, Redux, Lerna.js, Webpack, Less, Babel, Jest, Visual Studio Code, JIRA, GIT. React JS Developer Omnicell - Pittsburgh, PA April 2017 to September 2018 Responsibilities:  Worked on Design Prototype and Implementation using Node.JS and Socket IO Integration.  Works on Agile (Scrum) Development Team to deliver regular updates to business team and project managers.  Designing and developing the web pages using HTML5, CSS3, JavaScript, Bootstrap, SASS, LESS, React.js, Redux, Flex, Node JS, MongoDB,  Responsible to Style, look and feel of the webpage with SASS that extends CSS with dynamic behavior such as variable, mixing, operations and functions.  Works on React JS Virtual Dom and React views, rendering using components which contains additional components called custom HTML tags.  Responsible for React UI and architecture  Building components library, including Tree, Slide-View, and Table Grid.  Implement various screens for the frontend using React.js and used various predefined components from NPM (Node Package Manager) and redux library.  Works in using React JS components, Forms, Events, Keys, Router, Animations, and Flux concept.  Implements stable React components and stand-alone functions to be added to any future pages.  Used React JS for templating for faster compilation and developing reusable components.  Used React-autocomplete for creating google maps location search on the webpage.  Develops the React container and presentation all components (as State less and Functional components when applicable).  Develops the flux pattern by using redux framework as a core dependency.  Configured Web pack to execute linters, magnifiers, pre/post-processors, tests, transpires, etc. based on build target.  Used Node Package Manager (NPM) to manage modules & used it to install useful tools as Grunt, and Express.  Utilized React for its efficient data flow architecture to create a lightweight and render efficient web app that searched projects via the GitHub API through keywords.  Experience in RESTful web services to integrate between Server Side to Client Side  Worked with Mocha unit test framework to write unit tests for JavaScript code.  Involved in complete SDLC - Requirement Analysis, Development, System and Integration Testing.  Handled cross browser/platform compatibility issues (IE, Firefox, and Safari) on both Windows.  Used JIRA to keep track of outstanding bugs to reduce downtime, increase productivity, and improve communication  Environment: HTML5, CSS3, Bootstrap, SASS, LESS, JavaScript, React JS, Redux, Flex, JIRA, Mocha, GitHub, Jenkins and Web Strom. Frontend UI Developer Capital One Bank - Allen, VA, US January 2016 to March 2017 Responsibilities:  Involved in designing, developing and testing the web application by using the HTML5, CSS3, Bootstrap, and React.JS  Involved in designing the CSS templates for use in all pages on the website working with CSS Background, positioning, text, border, margin, padding, and table.  Applied optimization techniques to reduce page size and load times to enhance user experience using sprites.  Developed user interface by using the React JS, Flux for SPA development.  Involved in responsive design and developed a single ISOMORPHIC responsive website that could be served to desktop, Tablets and mobile users using React.js.  Implemented various screens for the front end using React.js and used various predefined components from NPM (Node Package Manager) and redux library.  Used React-Router to turn application into Single Page Application  Involved in using React JS components, Forms, Events, Keys, Router, Animations and Flux concept.  Involved in building stable React components and stand-alone functions to be added to any future pages.  Implemented the Drag and Drop functionality using React-Dragabble  Used React-Autocomplete for creating google maps location search on the webpage.  Added Excel-Builder to download the Tabular data in Excel format using react.  Created and used Reducers that received said Actions to modify the Store State Tree.  Maintained states in the stores and dispatched the actions using redux.  Used Node JS to run Web pack tasks and build properly the project.  Implemented modules into Node JS to integrate with designs and requirements  Involved in using excel builder 3rd Party open source library and tweak it to make sure it will work with IE11.  Component for UX-Library consisted of Button, Checkbox, Input, Icons, Toggle Button, Dropdown, Multi-Level Dropdown and many more.  In Phase Two, worked closely with the Back-End team to display data using the Custom Components, library Components, and Redux.  Working with ECMA Script 6 features. For build of JSX and ES2015,(ES6) used Babel, web pack.  Used Middleware, Redux-Promise in application to retrieve data from Back-End and to also perform RESTFUL services.  Added dynamic Functionality by creating and dispatching Action Creators that deployed Actions.  Optimized animation logic with optimistic functions to increase performance in rendering.  Worked with backend engineers to optimize existing API calls to create efficiencies by deprecating unneeded API calls.  Involved in Restful web services to call for POST, PUT, DELETE and GET methods.  Utilized React for its efficient data flow architecture to create a lightweight and render efficient web app that searched projects via the GitHub API through keywords.  Have worked on AWS for fetch the pictures and Videos from AWS to UI  Used Object Oriented Programming concepts to develop UI components that could be reused across the Web Application.  Environment: HTML 5, CSS3, Sass, Less, JavaScript, Bootstrap, Ajax, React JS, Redux, Flex, My SQL, XML, XSL, XSLT, JSON, Git hub, Restful API, AWS, Mongo DB, HP Quality Center, Jasmine and Web Strom UI Developer FedEx - Memphis, TN April 2015 to December 2016 Responsibilities:  Involved in complete Software Development Life Cycle - Designing, Coding, Testing, Debugging, and Production support for the project.  Created UI of Web pages with the assistance of HTML5, XML, CSS3, JavaScript, jQuery, Bootstrap, Node.js, AJAX, and Angular.js.  Used Angular.js as a framework to create Single Page Application (SPA) to improve page performance, which can bind data to specific views.  Used Angular.js two-way data binding and $resource services to make calls to the web services and exchange the data between the front-end and back-end.  Development of client-side validation techniques using jQuery and Angular.js directives.  Developed responsive Web pages using Bootstrap and CSS3 media queries.  Worked on SASS to build optimized CSS to work across multiple web pages and styles.  Created, edited, and maintained sites implementing responsive designs and themes using front-end development frameworks including Bootstrap.  Used Node package manager (NPM) to manage the modules and to install GRUNT tool.  Developed modules to retrieve and improve data using Ajax calls by $http service in Angular.js  Developed fast loading images using Photoshop CS3.  Developed Unit and E2E test cases using Jasmine, Grunt and Node Js.  Used CSS and jQuery for the rich user interface.  Used Source Tree, GIT for version control for defect tracking.  Designed RWD Web pages, which are good for mobiles, tablets, and PC utilizing the framework like bootstrap and CSS media queries.  Implemented Angular based views and used Routers to implement logic to exhibit different views.  Used $http in Angular.js for consuming RESTful web services.  Used Node.js to build a scalable network application where it can handle many connections concurrently.  Used Node.js for communication to the server through RESTful API.  Environment: Angular JS, Bootstrap, AJAX, MVC, Node.js, Grunt, Mongo DB, Gulp, karma, JIRA, Protractor, Jasmine, Jenkins, HTML4/5, CSS3, SASS, LESS, Backbone.js, JQuery, JavaScript, JSON, , Photoshop, AGILE, RESTful, JIRA, GIT. Web / UI Developer Rational Technologies - Hyderabad, Telangana February 2013 to December 2014 Responsibilities:  Web design and advancement, Tablet using HTML, JavaScript and Dreamweaver.  Designed dynamic and multi-browser compatible pages using HTML, CSS, JQuery and backbone.js.  Designing the project flow in UML.  Used JSF to build a Web Application for Administration purposes.  Worked on low-level design and development of new features.  Ensure appropriate application of Software life cycle and serve for the software system  Design and develop user interfaces using JSP, JavaScript and HTML  Developed Java Servlet on server side for handling requests and responses from the Web pages.  Worked extensively with GWT to implement server calls and HTML pages.  Written test cases for unit testing the code using JUnit testing Framework.  Developed Stored Procedures, Triggers and Views to populate the database Oracle and maintained the data integrity.  Developed UI using HTML, CSS, JavaScript validations and XML.  Used JIRA to track down the progress of the tasks and complete it on time.  Performed Client-side validations using JavaScript.  Environment: HTML, CSS, JIRA, JQuery, Bootstrap, MYSQL, JavaScript, XML, AJAX, Apache, SVN. Education Bachelors in Computer Science in Computer Science St. Mary's University. Masters in computer information systems in computer information systems Calums University Skills Visual studio, Html, Javascript, Node.js, Redux, Svn, Css, Angularjs, Unit testing, Database, Mysql, Eclipse, Intellij idea, jquery, Mongodb, Version control, Linux, Mac, UI Certifications/Licenses Driver's License Additional Information TECHNICAL SKILLS:  Web Technologies: HTML, CSS,LESS, JavaScript, jQuery, Angular2, AngularJS, Node.js, React.JS, Redux, Lerna, Storybook, Socket IO. Database: MySQL, MongoDB Unit Testing: Mocha, Jest Web Fra: Eclipse, WebStorm, Intellij Idea, Visual Studio Notepad++, SublimeText. Version Control: SVN, (torisan svn) and Github, BitBucket. Debugging Tools: Firebug, Chrome Developer toolbar, IE Developer Toolbar. Operating Systems: Windows, MAC, Linux\",\n          \"LEAD BUSINESS ANALYST-SCRUM MASTER LEAD BUSINESS ANALYST-SCRUM MASTER LEAD BUSINESS ANALYST-SCRUM MASTER - VERSCEND, INC Richmond, VA Work Experience LEAD BUSINESS ANALYST-SCRUM MASTER Cotiviti Inc. - Richmond, VA April 2018 to Present  Serve as Scrum Master conducting Daily stand up meetings, Planning and Managing PI Planning sessions; Ensure timely commencement and closure of each Sprint; Conduct Sprint reviews with the entire Team; Manage level of effort and hourly estimations from development team; Identify and remove impediments from the SDLC; Conduct Retrospective meetings after each Sprint;  Serve as Lead Business Analyst performing review of business requirements and user personas; Write technical user stories for software application development in JIRA; Translating business requirements into software functional requirements offshore development staff; Coaching/Managing Junior Business Analysts; Conduct weekly software application demonstrations to C-Level Executives and Product Team members for development feedback  Serve as Product Owner performing reviews of software application behavior and setting technical expectations to the offshore team  Serve as Project Manager setting up project and training junior staff members regarding project specifications duties while working with offshore teams to develop a MVP to present to the Product Executive leadership teams.  Responsible for product planning and execution throughout the Strategic Reporting Hub product lifecycle, including gathering and prioritizing product and customer requirements, defining the product vision, and working closely with engineering, sales, marketing and support to ensure revenue and customer satisfaction goals are met.  Demonstrated software workflow application features to peers and C-level leadership.  Collaborate with Product Owners to understand the buyer and user personas, write reporting specific user personas, functional specifications and help convert them into appropriate features for report development  Assist report development teams in sizing and estimation of the product features  Participate in planning activities, help the report development team to understand the user personas, product features to build the technical specifications for reporting  Support the report development team to build proof of concepts. Present them to stakeholders to get their feedback and provide recommendations back to team to improve user experience SENIOR IT CONSULTANT-SCRUM MASTER RULESWARE, LLC May 2017 to December 2017  Successfully implemented and deployed online survey application for major international Automotive company leveraging the Agile methodology  Led Business Analyst team members in writing functional and technical requirements  Created workflow process maps using industry-standard BPM tools  Translated Client business workflow process requirements into functional specifications, technical requirements, Features and User Stories  As Scrum Master conducted Daily Stand Up meetings; Participated in future Sprint Planning; Assisted Scrum Teams to remove impediments; Conducted meetings with off-shore Lead Development Team members to ensure successful deployment of software application feature enhancements  Led the process definition and requirements facilitation with Clients and project teams  Managed a delivery of standard excellence as indicated by PRPC guardrails  Ensured that the requirements management and facilitation best practices are adhered to include management of artifacts through requirements traceability, using versioning and change control  Helped to document business workflow rules and assist with work type structure from the perspective of the business needs  Successfully implemented system application enhancements for international Automotive company, saving the company over a million USD in Dealership fraudulent repair claims  Performed Quality application assurance testing end-to-end for Automotive survey workflow  Collaborated with technical and business stakeholder and subject matter experts through the project management lifecycle, hosted business and client meetings  Created and maintained solid working relationships with business leadership, product owners and client  Managed iterative requirements leveraging the Agile methodology  Functioned as Lead Information Technology Business Analyst by understanding business requirements and transforming those requirements into data mapping specifications  Effectively communicated with internal teams and clients; Delivered user interface requirements, graphical user interfaces  Utilized Kanban methodology to identify and track current Sprint iterations PROJECT MANAGER-SENIOR BUSINESS ANALYST-SCRUM MASTER UNITED HEALTHCARE-OPTUM, INC - Middletown, NJ May 2014 to May 2017  Successfully implemented and deployed Claims workflow processing application for major healthcare company saving millions of dollars in overhead costs, paper waste, and medical appeals leveraging the Agile methodology  Wrote functional, technical and business Epics/Features/User Stories for tracking purposes during each Sprint via CA Agile (formerly Rally)  Performed quality assurance and end-to-end testing for Claims workflow application  Demonstrated software workflow application features to peers and C-level leadership  Facilitated meetings with off-shore Development Teams during each Sprint iteration  Managed technical grooming sessions; Maintained functional backlog Performed Scrum Master duties for Scrum Team with Product Owner  Collaborated iterative requirements with Product Owner during each Sprint  Collaborated with technical team, business stakeholders and subject matter experts (SME's) throughout the project management lifecycle (SDLC)  Hosted business/client/development team meetings while establishing solid working relationships with business leadership, product owners and clients  Performed quality assurance and end-to-end testing for Claims workflow application  Assisted in the end-to-end pre-deployment regression testing for the pilot client site  Assisted with writing production validation test cases and scripts for the QA Test Team   Performed functional, deployment, and integration testing   Captured system application defects in HP-ALM for tracking purposes for off-shore IT Development Teams to troubleshoot SENIOR BUSINESS PROCESS CONSULTANT- PROJECT MANAGER UNITED HEALTHCARE-OPTUM, INC - New York, NY October 2014 to August 2015  Managed iterative requirements using the Agile methodology  Documented areas in a major financial institution where re-engineering of internal workflow processes could be improved; Conducted time-study research to identify areas for suggested workflow improvement  Performed Business Analyst and Project Management duties leveraging knowledge of workflow standards, frameworks and functional design  Identified client's strengths, weaknesses and understood the business issues and data challenges to identify needs and evaluate alternative business solutions  Collaborated with the technical, business stakeholders and Subject Matter Experts (SME's) to develop and deliver business requirements and specifications to optimize business processes and recommended technology solutions  Managed iterative requirements or leverage Agile methodology  Managed and participated in JAD sessions to develop functional and non-functional requirements with Subject Matter Expert  Created \\\"As-Is\\\" and \\\"To-Be\\\" workflow process diagrams using the BPM model for project team members/Clients Managed BPM sessions, maintained functional backlog and supported functional design with business stakeholders  Created, updated and validated the functional backlog ensuring requirements are captured in use cases, requirements and design templates on behalf of the Client SENIOR BUSINESS-INTEGRATION ANALYST ACCENTURE, INC November 2011 to October 2014  Supported local and international clients in the Information Technology, Finance and Healthcare industries, with a focus on analyzing the client's needs to optimize and digitize business various business workflow processes  Implemented Pega PRPCs Business Process Modeling (BPM) application for various clients  Performed quality assurance of workflow process to ensure end-to-end functionality of implemented application  Successfully implemented and deployed digital workflow process application significantly reducing paper waste for multi-million-dollar major international financial institution more than 1Million GBP  Implemented new checking account business workflow management processes to replace paper processes for international financial institution, reducing overall new customer account processing and implementation time by more than fifty percent  Built effective relationships with international vendor teams and clients  Collaborated with vendors and educated clients regarding Pega's capabilities and how the application can streamline internal/external workflow processes  Reviewed DCO processes with Clients  Trained Clients regarding Pega's DCO best practices and PRPC Guardrails  Created Pega training materials for various Clients  Collaborated with technical and business stakeholder and subject matter experts through JAD meetings  Assisted developers with project management lifecycle, hosting business and client meetings and evolving solid working relationships with business leadership, product owners and clients Education Bachelor of Science in Business Administration MEDGAR EVERS COLLEGE Master's in Technology Management UNIVERSITY OF PHOENIX Skills PROJECT MANAGEMENT (7 years), QUALITY ASSURANCE (5 years), USER STORIES (4 years), TESTING (3 years), QA (3 years), KANBAN (Less than 1 year), APPLICATION TESTING (Less than 1 year), APPLICATION TESTING/PROGRAMMING (Less than 1 year), BUSINESS ANALYSIS (Less than 1 year), CALL CENTER MANAGEMENT (Less than 1 year), EXCEL (Less than 1 year), MICROSOFT WORD (Less than 1 year), POWERPOINT (Less than 1 year), REST (Less than 1 year), SOAP (Less than 1 year), SQL (Less than 1 year), TEST CASE (Less than 1 year), TEST PLANS (Less than 1 year), TEST SCRIPTS (Less than 1 year), WORD (Less than 1 year) Links http://linkedin.com/in/debhawkins718 Additional Information SKILLS: Project Management; Management; Scrum Master; Business Analysis; Call Center Management; CA Agile (Rally); Kanban; Fibonacci; Creating Agile Methodology Epics, Features, User Stories; Creating requirements (Business, Functional, Technical); Microsoft Word, PowerPoint, Excel; Manual Quality Assurance application Testing (end-to-end); Creating Test Scripts; Gherkin format test case writing; HP-ALM (application defects/bug tracking); QA team testing; Creating test plans; SQL Query (Beginner); Beginner - SOAP, REST.\"\n        ],\n        \"semantic_type\": \"\",\n        \"description\": \"\"\n      }\n    },\n    {\n      \"column\": \"Category\",\n      \"properties\": {\n        \"dtype\": \"string\",\n        \"num_unique_values\": 5,\n        \"samples\": [\n          \"Front_End_Developer\",\n          \"Project_manager\",\n          \"Security_Analyst\"\n        ],\n        \"semantic_type\": \"\",\n        \"description\": \"\"\n      }\n    }\n  ]\n}"
            }
          },
          "metadata": {},
          "execution_count": 62
        }
      ]
    },
    {
      "cell_type": "code",
      "source": [
        "df.shape"
      ],
      "metadata": {
        "colab": {
          "base_uri": "https://localhost:8080/"
        },
        "id": "uY4C_M1vQ4vz",
        "outputId": "74d653d0-73d1-4d2e-ed33-f03b95cddb93"
      },
      "execution_count": 63,
      "outputs": [
        {
          "output_type": "execute_result",
          "data": {
            "text/plain": [
              "(8234, 2)"
            ]
          },
          "metadata": {},
          "execution_count": 63
        }
      ]
    },
    {
      "cell_type": "code",
      "source": [
        "df['Category'].value_counts()"
      ],
      "metadata": {
        "colab": {
          "base_uri": "https://localhost:8080/",
          "height": 429
        },
        "id": "dfurQzhnRF-3",
        "outputId": "6f1936dc-50f0-44bc-d9b9-8a8b535a816b"
      },
      "execution_count": 64,
      "outputs": [
        {
          "output_type": "execute_result",
          "data": {
            "text/plain": [
              "Category\n",
              "Python_Developer          1278\n",
              "Java_Developer            1242\n",
              "Web_Developer              984\n",
              "Database_Administrator     920\n",
              "Security_Analyst           876\n",
              "Systems_Administrator      776\n",
              "Project_manager            722\n",
              "Front_End_Developer        530\n",
              "Network_Administrator      469\n",
              "Software_Developer         437\n",
              "Name: count, dtype: int64"
            ],
            "text/html": [
              "<div>\n",
              "<style scoped>\n",
              "    .dataframe tbody tr th:only-of-type {\n",
              "        vertical-align: middle;\n",
              "    }\n",
              "\n",
              "    .dataframe tbody tr th {\n",
              "        vertical-align: top;\n",
              "    }\n",
              "\n",
              "    .dataframe thead th {\n",
              "        text-align: right;\n",
              "    }\n",
              "</style>\n",
              "<table border=\"1\" class=\"dataframe\">\n",
              "  <thead>\n",
              "    <tr style=\"text-align: right;\">\n",
              "      <th></th>\n",
              "      <th>count</th>\n",
              "    </tr>\n",
              "    <tr>\n",
              "      <th>Category</th>\n",
              "      <th></th>\n",
              "    </tr>\n",
              "  </thead>\n",
              "  <tbody>\n",
              "    <tr>\n",
              "      <th>Python_Developer</th>\n",
              "      <td>1278</td>\n",
              "    </tr>\n",
              "    <tr>\n",
              "      <th>Java_Developer</th>\n",
              "      <td>1242</td>\n",
              "    </tr>\n",
              "    <tr>\n",
              "      <th>Web_Developer</th>\n",
              "      <td>984</td>\n",
              "    </tr>\n",
              "    <tr>\n",
              "      <th>Database_Administrator</th>\n",
              "      <td>920</td>\n",
              "    </tr>\n",
              "    <tr>\n",
              "      <th>Security_Analyst</th>\n",
              "      <td>876</td>\n",
              "    </tr>\n",
              "    <tr>\n",
              "      <th>Systems_Administrator</th>\n",
              "      <td>776</td>\n",
              "    </tr>\n",
              "    <tr>\n",
              "      <th>Project_manager</th>\n",
              "      <td>722</td>\n",
              "    </tr>\n",
              "    <tr>\n",
              "      <th>Front_End_Developer</th>\n",
              "      <td>530</td>\n",
              "    </tr>\n",
              "    <tr>\n",
              "      <th>Network_Administrator</th>\n",
              "      <td>469</td>\n",
              "    </tr>\n",
              "    <tr>\n",
              "      <th>Software_Developer</th>\n",
              "      <td>437</td>\n",
              "    </tr>\n",
              "  </tbody>\n",
              "</table>\n",
              "</div><br><label><b>dtype:</b> int64</label>"
            ]
          },
          "metadata": {},
          "execution_count": 64
        }
      ]
    },
    {
      "cell_type": "code",
      "source": [
        "df['Category']"
      ],
      "metadata": {
        "id": "awAWDN_2RZww",
        "colab": {
          "base_uri": "https://localhost:8080/",
          "height": 458
        },
        "outputId": "1780d249-9d51-4267-b374-9a66dff10c3a"
      },
      "execution_count": 65,
      "outputs": [
        {
          "output_type": "execute_result",
          "data": {
            "text/plain": [
              "0             Python_Developer\n",
              "1             Python_Developer\n",
              "2             Python_Developer\n",
              "3             Python_Developer\n",
              "4             Python_Developer\n",
              "                 ...          \n",
              "8229    Database_Administrator\n",
              "8230    Database_Administrator\n",
              "8231    Database_Administrator\n",
              "8232    Database_Administrator\n",
              "8233    Database_Administrator\n",
              "Name: Category, Length: 8234, dtype: object"
            ],
            "text/html": [
              "<div>\n",
              "<style scoped>\n",
              "    .dataframe tbody tr th:only-of-type {\n",
              "        vertical-align: middle;\n",
              "    }\n",
              "\n",
              "    .dataframe tbody tr th {\n",
              "        vertical-align: top;\n",
              "    }\n",
              "\n",
              "    .dataframe thead th {\n",
              "        text-align: right;\n",
              "    }\n",
              "</style>\n",
              "<table border=\"1\" class=\"dataframe\">\n",
              "  <thead>\n",
              "    <tr style=\"text-align: right;\">\n",
              "      <th></th>\n",
              "      <th>Category</th>\n",
              "    </tr>\n",
              "  </thead>\n",
              "  <tbody>\n",
              "    <tr>\n",
              "      <th>0</th>\n",
              "      <td>Python_Developer</td>\n",
              "    </tr>\n",
              "    <tr>\n",
              "      <th>1</th>\n",
              "      <td>Python_Developer</td>\n",
              "    </tr>\n",
              "    <tr>\n",
              "      <th>2</th>\n",
              "      <td>Python_Developer</td>\n",
              "    </tr>\n",
              "    <tr>\n",
              "      <th>3</th>\n",
              "      <td>Python_Developer</td>\n",
              "    </tr>\n",
              "    <tr>\n",
              "      <th>4</th>\n",
              "      <td>Python_Developer</td>\n",
              "    </tr>\n",
              "    <tr>\n",
              "      <th>...</th>\n",
              "      <td>...</td>\n",
              "    </tr>\n",
              "    <tr>\n",
              "      <th>8229</th>\n",
              "      <td>Database_Administrator</td>\n",
              "    </tr>\n",
              "    <tr>\n",
              "      <th>8230</th>\n",
              "      <td>Database_Administrator</td>\n",
              "    </tr>\n",
              "    <tr>\n",
              "      <th>8231</th>\n",
              "      <td>Database_Administrator</td>\n",
              "    </tr>\n",
              "    <tr>\n",
              "      <th>8232</th>\n",
              "      <td>Database_Administrator</td>\n",
              "    </tr>\n",
              "    <tr>\n",
              "      <th>8233</th>\n",
              "      <td>Database_Administrator</td>\n",
              "    </tr>\n",
              "  </tbody>\n",
              "</table>\n",
              "<p>8234 rows × 1 columns</p>\n",
              "</div><br><label><b>dtype:</b> object</label>"
            ]
          },
          "metadata": {},
          "execution_count": 65
        }
      ]
    },
    {
      "cell_type": "code",
      "source": [
        "plt.figure(figsize=(15,6))\n",
        "sns.countplot(df['Category'])\n",
        "plt.show()"
      ],
      "metadata": {
        "colab": {
          "base_uri": "https://localhost:8080/",
          "height": 542
        },
        "id": "qKUq8SoftqNH",
        "outputId": "61542284-f9e6-4b80-aab5-5e7b0f0a17b3"
      },
      "execution_count": 66,
      "outputs": [
        {
          "output_type": "display_data",
          "data": {
            "text/plain": [
              "<Figure size 1500x600 with 1 Axes>"
            ],
            "image/png": "[encoded data removed]"
          },
          "metadata": {}
        }
      ]
    },
    {
      "cell_type": "code",
      "source": [],
      "metadata": {
        "id": "0qVtqJ4hu8gl"
      },
      "execution_count": 66,
      "outputs": []
    },
    {
      "cell_type": "code",
      "source": [
        "df['Category'].unique()"
      ],
      "metadata": {
        "colab": {
          "base_uri": "https://localhost:8080/"
        },
        "id": "IyQAkn1qu7DK",
        "outputId": "a2a0f752-3e0a-4a4a-f876-e9365dcf0412"
      },
      "execution_count": 67,
      "outputs": [
        {
          "output_type": "execute_result",
          "data": {
            "text/plain": [
              "array(['Python_Developer', 'Java_Developer', 'Front_End_Developer',\n",
              "       'Network_Administrator', 'Project_manager', 'Security_Analyst',\n",
              "       'Software_Developer', 'Systems_Administrator', 'Web_Developer',\n",
              "       'Database_Administrator'], dtype=object)"
            ]
          },
          "metadata": {},
          "execution_count": 67
        }
      ]
    },
    {
      "cell_type": "code",
      "source": [],
      "metadata": {
        "id": "3v6jD-8Au7J5"
      },
      "execution_count": 67,
      "outputs": []
    },
    {
      "cell_type": "code",
      "source": [
        "plt.pie(df['Category'].value_counts(),labels=df['Category'].unique(),autopct='%.2f%%')\n",
        "plt.show()"
      ],
      "metadata": {
        "colab": {
          "base_uri": "https://localhost:8080/",
          "height": 406
        },
        "id": "tbAbyhUguOmR",
        "outputId": "c3d9f4cd-1366-4037-cdf2-60c33ffc805d"
      },
      "execution_count": 68,
      "outputs": [
        {
          "output_type": "display_data",
          "data": {
            "text/plain": [
              "<Figure size 640x480 with 1 Axes>"
            ],
            "image/png": "[encoded data removed]"
          },
          "metadata": {}
        }
      ]
    },
    {
      "cell_type": "code",
      "source": [
        "#explore reume datasets and clean hashtags urls etc\n",
        "df['Resume'][10]"
      ],
      "metadata": {
        "colab": {
          "base_uri": "https://localhost:8080/",
          "height": 123
        },
        "id": "u4N4c3KEvfDH",
        "outputId": "b769f5d3-a162-41b9-b981-f08ac455b84f"
      },
      "execution_count": 69,
      "outputs": [
        {
          "output_type": "execute_result",
          "data": {
            "text/plain": [
              "'Infrastructure Engineer Infrastructure Engineer Python Developer - Transparent Language Manchester, NH Professional Learner. Currently working as a python developer with 5 years of experience. Involved in development of microservices, creation/maintenance of automated CI pipelines, and logging and monitoring tools. Authorized to work in the US for any employer Work Experience Infrastructure Engineer Liberty Mutual - Dover, NH April 2019 to Present Maintain and support IBM BPM / Websphere Applications. Containerize legacy applications. Support/implement automation using python and other scripting languages. Python Developer Transparent Language - Nashua, NH February 2014 to April 2019  Worked with a team to develop and maintain 90+ microservice applications.  Implement and maintain monitoring and logging tools to support a growing microservice infrastructure  Create and maintain continuous integration & deployment pipelines. QA Tester Transparent Language - Nashua, NH August 2012 to February 2014  Manual testing of the Transparent Language language learning software, websites, and services  Training new hires  Responsible for the creation of test plans Education New Hampshire Technical Institute - Concord, NH 2011 to 2016 Skills elasticsearch, jira, linux, nginx, redis, Git, docker, ansible, flask, prometheus, logstash, mongo, uwsgi, vagrant, bitbucket, bamboo, Python, Jenkins (Less than 1 year) Links http://linkedin.com/in/chad-robert-dewitt https://github.com/projectaur'"
            ],
            "application/vnd.google.colaboratory.intrinsic+json": {
              "type": "string"
            }
          },
          "metadata": {},
          "execution_count": 69
        }
      ]
    },
    {
      "cell_type": "markdown",
      "source": [
        "Data Cleaning\n",
        "URLS\n",
        "HASHTAGS\n",
        "SPECIAL LETTER\n",
        "PUNCUATION\n"
      ],
      "metadata": {
        "id": "bBfogeU2xyJJ"
      }
    },
    {
      "cell_type": "code",
      "source": [
        "import re\n",
        "def cleanResume(txt):\n",
        "  cleanText=re.sub('http\\S+\\s',' ',txt)\n",
        "  cleanText=re.sub('@\\S+',' ',cleanText)\n",
        "  cleanText=re.sub('#\\S+',' ',cleanText)\n",
        "  cleanText=re.sub('[%s]'%re.escape(\"\"\"!\"#$%&'()*+,-./:;<=>?@[\\]^_`{|}~\"\"\"),' ',cleanText)\n",
        "  cleanText=re.sub(r'[^\\x00-\\x7f]',' ',cleanText)\n",
        "  cleanText=re.sub('\\s+',' ',cleanText)\n",
        "  cleanText=re.sub('\\n',' ',cleanText)\n",
        "  cleanText=re.sub('RT|cc',' ',cleanText)\n",
        "\n",
        "  return cleanText\n"
      ],
      "metadata": {
        "id": "H0H1NiZ1wSrf"
      },
      "execution_count": 70,
      "outputs": []
    },
    {
      "cell_type": "code",
      "source": [
        "cleanResume(\"#### $ @@@||| bhabius;d\")"
      ],
      "metadata": {
        "colab": {
          "base_uri": "https://localhost:8080/",
          "height": 36
        },
        "id": "aqL12ReJzE1W",
        "outputId": "6c5748bf-0ebd-452d-c2da-0523e164c77c"
      },
      "execution_count": 71,
      "outputs": [
        {
          "output_type": "execute_result",
          "data": {
            "text/plain": [
              "' bhabius d'"
            ],
            "application/vnd.google.colaboratory.intrinsic+json": {
              "type": "string"
            }
          },
          "metadata": {},
          "execution_count": 71
        }
      ]
    },
    {
      "cell_type": "code",
      "source": [
        "df['Resume']=df['Resume'].apply(lambda x:cleanResume(x))"
      ],
      "metadata": {
        "id": "012AHpfK0eLZ"
      },
      "execution_count": 72,
      "outputs": []
    },
    {
      "cell_type": "code",
      "source": [
        "df['Resume'][10]"
      ],
      "metadata": {
        "colab": {
          "base_uri": "https://localhost:8080/",
          "height": 123
        },
        "id": "FjTNCH1mzUnx",
        "outputId": "8439c535-890c-4e0b-f9cb-b1358ec367e7"
      },
      "execution_count": 73,
      "outputs": [
        {
          "output_type": "execute_result",
          "data": {
            "text/plain": [
              "'Infrastructure Engineer Infrastructure Engineer Python Developer Transparent Language Manchester NH Professional Learner Currently working as a python developer with 5 years of experience Involved in development of microservices creation maintenance of automated CI pipelines and logging and monitoring tools Authorized to work in the US for any employer Work Experience Infrastructure Engineer Liberty Mutual Dover NH April 2019 to Present Maintain and support IBM BPM Websphere Applications Containerize legacy applications Support implement automation using python and other scripting languages Python Developer Transparent Language Nashua NH February 2014 to April 2019 Worked with a team to develop and maintain 90 microservice applications Implement and maintain monitoring and logging tools to support a growing microservice infrastructure Create and maintain continuous integration deployment pipelines QA Tester Transparent Language Nashua NH August 2012 to February 2014 Manual testing of the Transparent Language language learning software websites and services Training new hires Responsible for the creation of test plans Education New Hampshire Technical Institute Concord NH 2011 to 2016 Skills elasticsearch jira linux nginx redis Git docker ansible flask prometheus logstash mongo uwsgi vagrant bitbucket bamboo Python Jenkins Less than 1 year Links https github com projectaur'"
            ],
            "application/vnd.google.colaboratory.intrinsic+json": {
              "type": "string"
            }
          },
          "metadata": {},
          "execution_count": 73
        }
      ]
    },
    {
      "cell_type": "code",
      "source": [
        "df['Category']"
      ],
      "metadata": {
        "colab": {
          "base_uri": "https://localhost:8080/",
          "height": 458
        },
        "id": "ohr7ZgxQzaEP",
        "outputId": "b4f1dd3e-edd2-4bc2-cfc6-771398af1163"
      },
      "execution_count": 74,
      "outputs": [
        {
          "output_type": "execute_result",
          "data": {
            "text/plain": [
              "0             Python_Developer\n",
              "1             Python_Developer\n",
              "2             Python_Developer\n",
              "3             Python_Developer\n",
              "4             Python_Developer\n",
              "                 ...          \n",
              "8229    Database_Administrator\n",
              "8230    Database_Administrator\n",
              "8231    Database_Administrator\n",
              "8232    Database_Administrator\n",
              "8233    Database_Administrator\n",
              "Name: Category, Length: 8234, dtype: object"
            ],
            "text/html": [
              "<div>\n",
              "<style scoped>\n",
              "    .dataframe tbody tr th:only-of-type {\n",
              "        vertical-align: middle;\n",
              "    }\n",
              "\n",
              "    .dataframe tbody tr th {\n",
              "        vertical-align: top;\n",
              "    }\n",
              "\n",
              "    .dataframe thead th {\n",
              "        text-align: right;\n",
              "    }\n",
              "</style>\n",
              "<table border=\"1\" class=\"dataframe\">\n",
              "  <thead>\n",
              "    <tr style=\"text-align: right;\">\n",
              "      <th></th>\n",
              "      <th>Category</th>\n",
              "    </tr>\n",
              "  </thead>\n",
              "  <tbody>\n",
              "    <tr>\n",
              "      <th>0</th>\n",
              "      <td>Python_Developer</td>\n",
              "    </tr>\n",
              "    <tr>\n",
              "      <th>1</th>\n",
              "      <td>Python_Developer</td>\n",
              "    </tr>\n",
              "    <tr>\n",
              "      <th>2</th>\n",
              "      <td>Python_Developer</td>\n",
              "    </tr>\n",
              "    <tr>\n",
              "      <th>3</th>\n",
              "      <td>Python_Developer</td>\n",
              "    </tr>\n",
              "    <tr>\n",
              "      <th>4</th>\n",
              "      <td>Python_Developer</td>\n",
              "    </tr>\n",
              "    <tr>\n",
              "      <th>...</th>\n",
              "      <td>...</td>\n",
              "    </tr>\n",
              "    <tr>\n",
              "      <th>8229</th>\n",
              "      <td>Database_Administrator</td>\n",
              "    </tr>\n",
              "    <tr>\n",
              "      <th>8230</th>\n",
              "      <td>Database_Administrator</td>\n",
              "    </tr>\n",
              "    <tr>\n",
              "      <th>8231</th>\n",
              "      <td>Database_Administrator</td>\n",
              "    </tr>\n",
              "    <tr>\n",
              "      <th>8232</th>\n",
              "      <td>Database_Administrator</td>\n",
              "    </tr>\n",
              "    <tr>\n",
              "      <th>8233</th>\n",
              "      <td>Database_Administrator</td>\n",
              "    </tr>\n",
              "  </tbody>\n",
              "</table>\n",
              "<p>8234 rows × 1 columns</p>\n",
              "</div><br><label><b>dtype:</b> object</label>"
            ]
          },
          "metadata": {},
          "execution_count": 74
        }
      ]
    },
    {
      "cell_type": "code",
      "source": [
        "df"
      ],
      "metadata": {
        "colab": {
          "base_uri": "https://localhost:8080/",
          "height": 423
        },
        "id": "3Jd1-IBy5N4y",
        "outputId": "7e1de981-d97d-4597-f081-1304e97c8c73"
      },
      "execution_count": 75,
      "outputs": [
        {
          "output_type": "execute_result",
          "data": {
            "text/plain": [
              "                                                 Resume  \\\n",
              "0     Python Developer Python Developer Philadelphia...   \n",
              "1     Python Developer Python Developer Python Devel...   \n",
              "2     R D Engineer R D Engineer R D Engineer Nokia S...   \n",
              "3     Sr Full Stack Developer Sr Full Stack Develope...   \n",
              "4     Sr Full Stack Python Developer Sr Full Stack P...   \n",
              "...                                                 ...   \n",
              "8229  Oracle database administrator Oracle database ...   \n",
              "8230  Job Seeker Columbus OH I am responsible and de...   \n",
              "8231  Database Administrator Database Administrator ...   \n",
              "8232  Business Intelligence Engineer Business Intell...   \n",
              "8233  Database Administrator DBA Database Administra...   \n",
              "\n",
              "                    Category  \n",
              "0           Python_Developer  \n",
              "1           Python_Developer  \n",
              "2           Python_Developer  \n",
              "3           Python_Developer  \n",
              "4           Python_Developer  \n",
              "...                      ...  \n",
              "8229  Database_Administrator  \n",
              "8230  Database_Administrator  \n",
              "8231  Database_Administrator  \n",
              "8232  Database_Administrator  \n",
              "8233  Database_Administrator  \n",
              "\n",
              "[8234 rows x 2 columns]"
            ],
            "text/html": [
              "\n",
              "  <div id=\"df-9afc73fb-2bf0-4530-9137-0cba50f530e6\" class=\"colab-df-container\">\n",
              "    <div>\n",
              "<style scoped>\n",
              "    .dataframe tbody tr th:only-of-type {\n",
              "        vertical-align: middle;\n",
              "    }\n",
              "\n",
              "    .dataframe tbody tr th {\n",
              "        vertical-align: top;\n",
              "    }\n",
              "\n",
              "    .dataframe thead th {\n",
              "        text-align: right;\n",
              "    }\n",
              "</style>\n",
              "<table border=\"1\" class=\"dataframe\">\n",
              "  <thead>\n",
              "    <tr style=\"text-align: right;\">\n",
              "      <th></th>\n",
              "      <th>Resume</th>\n",
              "      <th>Category</th>\n",
              "    </tr>\n",
              "  </thead>\n",
              "  <tbody>\n",
              "    <tr>\n",
              "      <th>0</th>\n",
              "      <td>Python Developer Python Developer Philadelphia...</td>\n",
              "      <td>Python_Developer</td>\n",
              "    </tr>\n",
              "    <tr>\n",
              "      <th>1</th>\n",
              "      <td>Python Developer Python Developer Python Devel...</td>\n",
              "      <td>Python_Developer</td>\n",
              "    </tr>\n",
              "    <tr>\n",
              "      <th>2</th>\n",
              "      <td>R D Engineer R D Engineer R D Engineer Nokia S...</td>\n",
              "      <td>Python_Developer</td>\n",
              "    </tr>\n",
              "    <tr>\n",
              "      <th>3</th>\n",
              "      <td>Sr Full Stack Developer Sr Full Stack Develope...</td>\n",
              "      <td>Python_Developer</td>\n",
              "    </tr>\n",
              "    <tr>\n",
              "      <th>4</th>\n",
              "      <td>Sr Full Stack Python Developer Sr Full Stack P...</td>\n",
              "      <td>Python_Developer</td>\n",
              "    </tr>\n",
              "    <tr>\n",
              "      <th>...</th>\n",
              "      <td>...</td>\n",
              "      <td>...</td>\n",
              "    </tr>\n",
              "    <tr>\n",
              "      <th>8229</th>\n",
              "      <td>Oracle database administrator Oracle database ...</td>\n",
              "      <td>Database_Administrator</td>\n",
              "    </tr>\n",
              "    <tr>\n",
              "      <th>8230</th>\n",
              "      <td>Job Seeker Columbus OH I am responsible and de...</td>\n",
              "      <td>Database_Administrator</td>\n",
              "    </tr>\n",
              "    <tr>\n",
              "      <th>8231</th>\n",
              "      <td>Database Administrator Database Administrator ...</td>\n",
              "      <td>Database_Administrator</td>\n",
              "    </tr>\n",
              "    <tr>\n",
              "      <th>8232</th>\n",
              "      <td>Business Intelligence Engineer Business Intell...</td>\n",
              "      <td>Database_Administrator</td>\n",
              "    </tr>\n",
              "    <tr>\n",
              "      <th>8233</th>\n",
              "      <td>Database Administrator DBA Database Administra...</td>\n",
              "      <td>Database_Administrator</td>\n",
              "    </tr>\n",
              "  </tbody>\n",
              "</table>\n",
              "<p>8234 rows × 2 columns</p>\n",
              "</div>\n",
              "    <div class=\"colab-df-buttons\">\n",
              "\n",
              "  <div class=\"colab-df-container\">\n",
              "    <button class=\"colab-df-convert\" onclick=\"convertToInteractive('df-9afc73fb-2bf0-4530-9137-0cba50f530e6')\"\n",
              "            title=\"Convert this dataframe to an interactive table.\"\n",
              "            style=\"display:none;\">\n",
              "\n",
              "  <svg xmlns=\"http://www.w3.org/2000/svg\" height=\"24px\" viewBox=\"0 -960 960 960\">\n",
              "    <path d=\"M120-120v-720h720v720H120Zm60-500h600v-160H180v160Zm220 220h160v-160H400v160Zm0 220h160v-160H400v160ZM180-400h160v-160H180v160Zm440 0h160v-160H620v160ZM180-180h160v-160H180v160Zm440 0h160v-160H620v160Z\"/>\n",
              "  </svg>\n",
              "    </button>\n",
              "\n",
              "  <style>\n",
              "    .colab-df-container {\n",
              "      display:flex;\n",
              "      gap: 12px;\n",
              "    }\n",
              "\n",
              "    .colab-df-convert {\n",
              "      background-color: #E8F0FE;\n",
              "      border: none;\n",
              "      border-radius: 50%;\n",
              "      cursor: pointer;\n",
              "      display: none;\n",
              "      fill: #1967D2;\n",
              "      height: 32px;\n",
              "      padding: 0 0 0 0;\n",
              "      width: 32px;\n",
              "    }\n",
              "\n",
              "    .colab-df-convert:hover {\n",
              "      background-color: #E2EBFA;\n",
              "      box-shadow: 0px 1px 2px rgba(60, 64, 67, 0.3), 0px 1px 3px 1px rgba(60, 64, 67, 0.15);\n",
              "      fill: #174EA6;\n",
              "    }\n",
              "\n",
              "    .colab-df-buttons div {\n",
              "      margin-bottom: 4px;\n",
              "    }\n",
              "\n",
              "    [theme=dark] .colab-df-convert {\n",
              "      background-color: #3B4455;\n",
              "      fill: #D2E3FC;\n",
              "    }\n",
              "\n",
              "    [theme=dark] .colab-df-convert:hover {\n",
              "      background-color: #434B5C;\n",
              "      box-shadow: 0px 1px 3px 1px rgba(0, 0, 0, 0.15);\n",
              "      filter: drop-shadow(0px 1px 2px rgba(0, 0, 0, 0.3));\n",
              "      fill: #FFFFFF;\n",
              "    }\n",
              "  </style>\n",
              "\n",
              "    <script>\n",
              "      const buttonEl =\n",
              "        document.querySelector('#df-9afc73fb-2bf0-4530-9137-0cba50f530e6 button.colab-df-convert');\n",
              "      buttonEl.style.display =\n",
              "        google.colab.kernel.accessAllowed ? 'block' : 'none';\n",
              "\n",
              "      async function convertToInteractive(key) {\n",
              "        const element = document.querySelector('#df-9afc73fb-2bf0-4530-9137-0cba50f530e6');\n",
              "        const dataTable =\n",
              "          await google.colab.kernel.invokeFunction('convertToInteractive',\n",
              "                                                    [key], {});\n",
              "        if (!dataTable) return;\n",
              "\n",
              "        const docLinkHtml = 'Like what you see? Visit the ' +\n",
              "          '<a target=\"_blank\" href=https://colab.research.google.com/notebooks/data_table.ipynb>data table notebook</a>'\n",
              "          + ' to learn more about interactive tables.';\n",
              "        element.innerHTML = '';\n",
              "        dataTable['output_type'] = 'display_data';\n",
              "        await google.colab.output.renderOutput(dataTable, element);\n",
              "        const docLink = document.createElement('div');\n",
              "        docLink.innerHTML = docLinkHtml;\n",
              "        element.appendChild(docLink);\n",
              "      }\n",
              "    </script>\n",
              "  </div>\n",
              "\n",
              "\n",
              "<div id=\"df-2365e7b7-d296-4f50-b697-d45fa4b93704\">\n",
              "  <button class=\"colab-df-quickchart\" onclick=\"quickchart('df-2365e7b7-d296-4f50-b697-d45fa4b93704')\"\n",
              "            title=\"Suggest charts\"\n",
              "            style=\"display:none;\">\n",
              "\n",
              "<svg xmlns=\"http://www.w3.org/2000/svg\" height=\"24px\"viewBox=\"0 0 24 24\"\n",
              "     width=\"24px\">\n",
              "    <g>\n",
              "        <path d=\"M19 3H5c-1.1 0-2 .9-2 2v14c0 1.1.9 2 2 2h14c1.1 0 2-.9 2-2V5c0-1.1-.9-2-2-2zM9 17H7v-7h2v7zm4 0h-2V7h2v10zm4 0h-2v-4h2v4z\"/>\n",
              "    </g>\n",
              "</svg>\n",
              "  </button>\n",
              "\n",
              "<style>\n",
              "  .colab-df-quickchart {\n",
              "      --bg-color: #E8F0FE;\n",
              "      --fill-color: #1967D2;\n",
              "      --hover-bg-color: #E2EBFA;\n",
              "      --hover-fill-color: #174EA6;\n",
              "      --disabled-fill-color: #AAA;\n",
              "      --disabled-bg-color: #DDD;\n",
              "  }\n",
              "\n",
              "  [theme=dark] .colab-df-quickchart {\n",
              "      --bg-color: #3B4455;\n",
              "      --fill-color: #D2E3FC;\n",
              "      --hover-bg-color: #434B5C;\n",
              "      --hover-fill-color: #FFFFFF;\n",
              "      --disabled-bg-color: #3B4455;\n",
              "      --disabled-fill-color: #666;\n",
              "  }\n",
              "\n",
              "  .colab-df-quickchart {\n",
              "    background-color: var(--bg-color);\n",
              "    border: none;\n",
              "    border-radius: 50%;\n",
              "    cursor: pointer;\n",
              "    display: none;\n",
              "    fill: var(--fill-color);\n",
              "    height: 32px;\n",
              "    padding: 0;\n",
              "    width: 32px;\n",
              "  }\n",
              "\n",
              "  .colab-df-quickchart:hover {\n",
              "    background-color: var(--hover-bg-color);\n",
              "    box-shadow: 0 1px 2px rgba(60, 64, 67, 0.3), 0 1px 3px 1px rgba(60, 64, 67, 0.15);\n",
              "    fill: var(--button-hover-fill-color);\n",
              "  }\n",
              "\n",
              "  .colab-df-quickchart-complete:disabled,\n",
              "  .colab-df-quickchart-complete:disabled:hover {\n",
              "    background-color: var(--disabled-bg-color);\n",
              "    fill: var(--disabled-fill-color);\n",
              "    box-shadow: none;\n",
              "  }\n",
              "\n",
              "  .colab-df-spinner {\n",
              "    border: 2px solid var(--fill-color);\n",
              "    border-color: transparent;\n",
              "    border-bottom-color: var(--fill-color);\n",
              "    animation:\n",
              "      spin 1s steps(1) infinite;\n",
              "  }\n",
              "\n",
              "  @keyframes spin {\n",
              "    0% {\n",
              "      border-color: transparent;\n",
              "      border-bottom-color: var(--fill-color);\n",
              "      border-left-color: var(--fill-color);\n",
              "    }\n",
              "    20% {\n",
              "      border-color: transparent;\n",
              "      border-left-color: var(--fill-color);\n",
              "      border-top-color: var(--fill-color);\n",
              "    }\n",
              "    30% {\n",
              "      border-color: transparent;\n",
              "      border-left-color: var(--fill-color);\n",
              "      border-top-color: var(--fill-color);\n",
              "      border-right-color: var(--fill-color);\n",
              "    }\n",
              "    40% {\n",
              "      border-color: transparent;\n",
              "      border-right-color: var(--fill-color);\n",
              "      border-top-color: var(--fill-color);\n",
              "    }\n",
              "    60% {\n",
              "      border-color: transparent;\n",
              "      border-right-color: var(--fill-color);\n",
              "    }\n",
              "    80% {\n",
              "      border-color: transparent;\n",
              "      border-right-color: var(--fill-color);\n",
              "      border-bottom-color: var(--fill-color);\n",
              "    }\n",
              "    90% {\n",
              "      border-color: transparent;\n",
              "      border-bottom-color: var(--fill-color);\n",
              "    }\n",
              "  }\n",
              "</style>\n",
              "\n",
              "  <script>\n",
              "    async function quickchart(key) {\n",
              "      const quickchartButtonEl =\n",
              "        document.querySelector('#' + key + ' button');\n",
              "      quickchartButtonEl.disabled = true;  // To prevent multiple clicks.\n",
              "      quickchartButtonEl.classList.add('colab-df-spinner');\n",
              "      try {\n",
              "        const charts = await google.colab.kernel.invokeFunction(\n",
              "            'suggestCharts', [key], {});\n",
              "      } catch (error) {\n",
              "        console.error('Error during call to suggestCharts:', error);\n",
              "      }\n",
              "      quickchartButtonEl.classList.remove('colab-df-spinner');\n",
              "      quickchartButtonEl.classList.add('colab-df-quickchart-complete');\n",
              "    }\n",
              "    (() => {\n",
              "      let quickchartButtonEl =\n",
              "        document.querySelector('#df-2365e7b7-d296-4f50-b697-d45fa4b93704 button');\n",
              "      quickchartButtonEl.style.display =\n",
              "        google.colab.kernel.accessAllowed ? 'block' : 'none';\n",
              "    })();\n",
              "  </script>\n",
              "</div>\n",
              "\n",
              "  <div id=\"id_5b0f5891-b58e-4d7c-9a34-d0014b1f6892\">\n",
              "    <style>\n",
              "      .colab-df-generate {\n",
              "        background-color: #E8F0FE;\n",
              "        border: none;\n",
              "        border-radius: 50%;\n",
              "        cursor: pointer;\n",
              "        display: none;\n",
              "        fill: #1967D2;\n",
              "        height: 32px;\n",
              "        padding: 0 0 0 0;\n",
              "        width: 32px;\n",
              "      }\n",
              "\n",
              "      .colab-df-generate:hover {\n",
              "        background-color: #E2EBFA;\n",
              "        box-shadow: 0px 1px 2px rgba(60, 64, 67, 0.3), 0px 1px 3px 1px rgba(60, 64, 67, 0.15);\n",
              "        fill: #174EA6;\n",
              "      }\n",
              "\n",
              "      [theme=dark] .colab-df-generate {\n",
              "        background-color: #3B4455;\n",
              "        fill: #D2E3FC;\n",
              "      }\n",
              "\n",
              "      [theme=dark] .colab-df-generate:hover {\n",
              "        background-color: #434B5C;\n",
              "        box-shadow: 0px 1px 3px 1px rgba(0, 0, 0, 0.15);\n",
              "        filter: drop-shadow(0px 1px 2px rgba(0, 0, 0, 0.3));\n",
              "        fill: #FFFFFF;\n",
              "      }\n",
              "    </style>\n",
              "    <button class=\"colab-df-generate\" onclick=\"generateWithVariable('df')\"\n",
              "            title=\"Generate code using this dataframe.\"\n",
              "            style=\"display:none;\">\n",
              "\n",
              "  <svg xmlns=\"http://www.w3.org/2000/svg\" height=\"24px\"viewBox=\"0 0 24 24\"\n",
              "       width=\"24px\">\n",
              "    <path d=\"M7,19H8.4L18.45,9,17,7.55,7,17.6ZM5,21V16.75L18.45,3.32a2,2,0,0,1,2.83,0l1.4,1.43a1.91,1.91,0,0,1,.58,1.4,1.91,1.91,0,0,1-.58,1.4L9.25,21ZM18.45,9,17,7.55Zm-12,3A5.31,5.31,0,0,0,4.9,8.1,5.31,5.31,0,0,0,1,6.5,5.31,5.31,0,0,0,4.9,4.9,5.31,5.31,0,0,0,6.5,1,5.31,5.31,0,0,0,8.1,4.9,5.31,5.31,0,0,0,12,6.5,5.46,5.46,0,0,0,6.5,12Z\"/>\n",
              "  </svg>\n",
              "    </button>\n",
              "    <script>\n",
              "      (() => {\n",
              "      const buttonEl =\n",
              "        document.querySelector('#id_5b0f5891-b58e-4d7c-9a34-d0014b1f6892 button.colab-df-generate');\n",
              "      buttonEl.style.display =\n",
              "        google.colab.kernel.accessAllowed ? 'block' : 'none';\n",
              "\n",
              "      buttonEl.onclick = () => {\n",
              "        google.colab.notebook.generateWithVariable('df');\n",
              "      }\n",
              "      })();\n",
              "    </script>\n",
              "  </div>\n",
              "\n",
              "    </div>\n",
              "  </div>\n"
            ],
            "application/vnd.google.colaboratory.intrinsic+json": {
              "type": "dataframe",
              "variable_name": "df",
              "summary": "{\n  \"name\": \"df\",\n  \"rows\": 8234,\n  \"fields\": [\n    {\n      \"column\": \"Resume\",\n      \"properties\": {\n        \"dtype\": \"string\",\n        \"num_unique_values\": 8001,\n        \"samples\": [\n          \"Business Analyst Business Analyst Business Analyst St Louis MO Over 8 years of IT experience in various stages of Software Development which includes 5 years of experience as Salesforce CRM Developer Administrator Business Analyst on Salesforce com platform Experience in implementing technology enabled business solutions Possess knowledge of CRM processes like Sales Marketing Customer Service and Customer Support Business processes and recommended solutions to improve their processes using salesforce com Experience in Administration Configuration and Implementation of Salesforce CRM and Salesforce SFA applications based on Apex Language and Force com Platform Experience in SFDC development using Apex classes and Triggers Visual Force S Controls Force com IDE SOQL SOSL Worked on Eclipse IDE with Force com Plug in for writing business logic in Apex programming language Proficiency in SFDC Administrative tasks like creating and customizing Profiles Roles Users Page Layouts Email Services Approvals Workflows Validation rules Reports Dashboards Tasks and Events Experience in data migration using Import wizard and Apex Data Loader Used Force com Web services API and outbound messaging for implementing web services through WSDL in the application for a ess to data from External systems and websites Developed SFDC Customized Reports Dashboards and Processes to continuously monitor data quality and integrity Experience in customizing Salesforce CRM for generating web to leads and web to cases Proficiency in Object Oriented Languages like C Java JSP Servlets and other Java technologies Experience in web technologies like HTML XML CSS JSP and JavaScript Experience in databases such as Oracle and MySQL Extensively worked on Salesforce com sandbox and production environment including creating Sandboxes and refreshing it time to time Deployment between Production and Sandboxes using Eclipse Force com Migration Tool and Change Set Proficiency in installing and developing Lightening App Exchange applications Hands on experience in implementing security and sharing rules at object field and record level for different users at different levels of organization Also created various profiles and configured the permissions based on the organizational hierarchy Excellent debugging and documentation skills to achieve the complex business functionality Proficient in cloud based business applications experience with data management and reporting in combination with strong analytical skills Have working experience in Design and Development of UI s Using Visualforce and HTML Good understanding of Software Development Life Cycle SDLC and Agile with expertise in Requirement gathering Analysis Designing Development and Testing Worked closely with Business Users to enabled business process using SFDC Excellent communication and inter personal skills a ustomed to working in both large and small team environments Authorized to work in the US for any employer Work Experience Business Analyst salesforce com Wayne PA US December 2013 to October 2015 interacted with various business user groups for gathering the requirements for salesforce com Lightning and CRM implementation Documented and shared the requirements with other SalesForce com consultants for further implementation Develop portal solution using Lightning Components Worked with Service Cloud technology and on premise infrastructure integration for Salesforce com Implemented new customer support solution using Salesforce com Service Cloud Maintained and improved existing SalesForce implementation Performed the roles of Salesforce com Administrator Developer in the organization Worked on various Salesforce com standard objects like A ounts Contacts Cases Leads Campaigns Reports and Dashboards Designed and deployed Custom objects validation rules Page layouts Custom tabs Components to suit the needs of the application Provide and organize documents via Salesforce CRM Content or the Documents tab in Customer portal Oversee and manage the implementation of the CRM application using salesforce com methodologies Defined lookup and master detail relationships on the objects Developed Visual Force Page a ording to the client s requirement Developed several Apex Triggers Classes during the project lifecycle Worked with SOSL and SOQL queries to get data from different related objects Invocated the queries and Apex methods from JavaScript Deployed the code developed in the Developer Sandbox to the Test Sandbox and the Production sandbox Involved in Creation of Test Data for all the business rules of all projects in QA as well as in UAT environment Created Support Pages for end users using HTML JQuery JavaScript and Visual Force Involved in Unit Testing for the customizations and developments done during the project Interacted with testing and the development teams for the development and testing of the code Used Force com platform for developing feature rich and user friendly Visual force pages for enhancing Salesforce UI Environment Saleforce com platform Service Cloud Apex CRM Visual Force Pages Data Loader Workflow Approvals Reports Custom Objects Custom Tabs Email Services Security Controls Sandbox data loading AppExchange HTML Java Developer Mahindra Satyam Hyderabad ANDHRA PRADESH IN October 2011 to November 2013 Responsibilities Actively participated in sprints and su essfully implemented the project following scrum agile practice Designed and prepared the Use Case diagrams Class diagrams Sequence diagrams for current activity shipment association lookups and web service Developed user interface for the current activity screens lookups associations using JSF Rich Faces This is done with solid understanding of JSF life cycle and paid careful attention to performance improvement Developed the backing beans for the screens and responsible for development of framework level classes to support the exception handling Tab handling Did research on various inheritance strategies of open JPA in the context of the existing schema relations and came up with the test results of each strategy This has enabled to take right decision on the strategy to follow Customized the MyEclipse templates to generate the code for openJPA entities Query classes etc This has significantly reduced the development time in this project and also become potential reusable code Implemented the business logic in EJB 3 components Developed web service for UFS system services using JAX WS JAXB Integrated the JAX WS with spring Worked on understanding of the UFS business logic which is in java code generated from forte code And implemented the web service wrapper classes based on this logic Involved in build script changes of UFS application to include the web service classes Environment XHTML RichFaces 3 3 2 JSF 1 2 AJAX Java 1 5 J2EE Open JPA EJB 3 0 Junit 1 4 XML SOAP Web Services JAX WS JAXB Spring SOA Glassfish 2 Oracle 10g Windows XP Linux MyEclipse 7 5 PL SQL Developer SVN ClearQuest Forte ANT JBoss 4 Agile Education Certification Apex Custom Controllers and Extension Bachelor s Skills Apex 1 year Cases 1 year Java 2 years Linux 2 years Web Services 2 years Salesforce Tools Eclipse Force com IDE Explorer Apex Data Loader Force com Platform Sandbox and Production Analytics Tools Tableau 8 2 Languages Apex C C Java 8 years Additional Information Operating Systems Windows NT 2000 XP Pro Vista 7 Windows Server 2000 2003 2008 Linux Red Hat SUSE Mint Ubuntu Free BSD OS X Documentation Tools MS Office MS Visio Pro Adobe Frame maker Snag IT BIG DATA Ecosystems Hadoop HDFS Map Reduce HBase PIG HIVE Zoo Keeper Sqoop Oozie Hue Flume MongoDB Mahout Charter Communications St Louis MO Sept 2017 Till date Servicenow Responsibilities Interacted with various business user groups for gathering the requirements for salesforce com CRM implementation Involved in Salesforce com Application Setup activities and customized the apps to match the functional needs of the organization Implemented the requirements on Salesforce com platform and Force com IDE Plug in using Eclipse Worked with various salesforce com objects like A ounts Contacts Leads Campaigns Reports and Dashboards Worked with Apex Classes Apex Triggers and Visual force pages Develop and Implement portal solution using Lightning Components Maintained user roles security profiles and workflow rules wherever necessary Created Sharing rules Assignment Rules and Escalation Rules for Cases Developed various Custom Objects Tabs Components and Visual Force Integration with Cast Iron Develop and Deploy SFDC Integrations with SAP and other applications using Net environment and Force API Data Migration from Legacy Front Range to SalesForce Created custom Dashboards for manager s home page and gave a essibility to dashboards for authorized people Developed Custom Objects Custom Reports and dashboard on regular basis for the sales performance and lead generation statistics Environment Saleforce com platform Lightening Components Apex Language Visual Force Pages Data Loader Allied Telesis San Jose CA Nov 2015 Aug 2017 Salesforce Admin Developer Responsibilities Created user Roles and Profiles security controls and shared settings Developed Custom Objects Custom reports and configured Analytical Snapshots to dump the data into on a regular basis for sales performance and lead generation statics Worked on various SFDC standard objects like A ounts Contacts Leads Reports and Dashboards Implemented field level security profiles and audit trail setup Developed Salesforce com workflow rules and triggers using Apex for updating Users based on Location records Develop and Implement portal solution using Lightning Components Created the workflows for automated lead routing lead escalation alerts and custom coaching plans Developed Validation and Trigger code for objects and fields Provided the training to the internal business users to use the application and develop their own custom reports Customized the Dashboards to the track usage for productivity and performance of business centers and their sales teams Developed various Visual Force pages as per the requirement Experienced in the Unit Testing for the customizations and developments done during the project Environment Force com API Controllers Sharing Rules Lightning Components Java Script Web services Triggers Controllers Workflows Email Updates \",\n          \"Lead UX Designer Front End Developer Lead UX Designer Front End Developer Lead UX Designer Front End Developer North Hollywood CA Experienced UX Designer with a strong Front End Development background Passionate about user centric design and the elegance of simple design Being a UX Designer and a Front End Developer enables me to design while being aware of programming requirements and limitations for each project provide a urate estimates foresee potential problems and determining development approach and strategy Over 10 years experience leading and managing projects and production teams delivering quality work on time and within budget Excellent organization communication and client relation skills Able to work as a productive member of a team as well as independently remotely Authorized to work in the US for any employer Work Experience Lead UX Designer Front End Developer Techone Group LLC San Diego CA January 2010 to Present Experienced in all stages of UX life cycle and the SDLC Responsible for the product roadmap vision direction and execution Experienced with user centric designs object oriented development user research and analysis and project documentation Experienced Debugging code Beta tested software functionality and cross platform design and development compatibility Experience interacting with clients and groups to define objectives and specifications define personas and project costs Engaged closely with the team to determine design strategy best technical implementation methods and production schedule Created high fidelity interactive prototypes using Axure OmniGraffle Indigo InVision Figma Sketch Balsamic and Gridbox Well versed in collaboration software Realtime Board Slack Trello Jira Figma Experience with core concept development creating IA schematics process flows wireframe design mockups navigation maps wireframes definition of personas affinity diagrams interactive prototypes for different usage scenarios user journeys responsive UI design for web mobile apps using HTML5 CSS3 XHTML XML JavaScript AngularJS ReactJS JQUERY JSON AJAX Python meeting W3C standards I bring a unique eye for detail creativity innovation to the UX Design process ensuring features will drive high adoption and customer delight Co Founder Lead UX Designer Front End Developer Techone Media Inc Pittsburgh PA January 1997 to January 2010 Responsible for production management of all projects from beginning to end leading the design and development teams Interacted frequently with clients providing project updates and implemented client feedback into UX design development Designed responsive native apps and web pages using HTML CSS XHTML XML JavaScript AngularJS ReactJS and PHP Expert with Adobe CC 2018 and content management frameworks WordPress Bootstrap Foundation Drupal Joomla Sass Created MySQL databases Used data with PHP to generate dynamic graphics and manage apps using back end dashboards Setup ecommerce customized templates to optimize conversion to sales on many platforms Shopify Shopsite Magneto etc Created marketing campaigns and managed social media a ounts Monitored web analytics analyzed and reported data Created usability tests performed product market analysis and research and integrated results into project requirements Created estimates production schedules and reports billing reports and employee evaluations and performance reports Head of Web Services Division Front End Developer VWA Associates Pittsburgh PA September 1994 to January 1997 Led the Web Design Development Division providing web design development services to Fortune 500 companies My work expertise evolved as follows 1 Production Manager 2 Graphic Designer 3 Web Designer 4 Front End Developer Experienced in all stages of UX life cycle and SDLC Software Development Life Cycle Provided translation services Designed online marketing campaigns and managed social media a ounts Created website flowcharts data architecture diagrams data visualization graphics Designed developed maintained websites Created optimized multimedia content Designed corporate branding packaging sales marketing material Created interactive multimedia presentations on DVDs Education Certification in Front End Development UCSD San Diego CA January 2018 to December 2018 Certification in UX Design UCSD San Diego CA January 2018 to December 2018 Bachelor s in Business Admin Management Wheeling Jesuit University Wheeling WV September 1992 to June 1994 Skills Front End UI Javascript Angular React Ideation and Discovery Wireframes Storyboarding Persona Creation User Journeys User Stories User and Task Flows Information Architecture Data Visualization Affinity Diagrams Team and Client Collaboration High Low Fidelity Prototypes Front End User Interface Bootstrap Node HTML5 Jquery Angularjs Java CSS3 UX Adobe User Experience Wireframe Sketch Links Certifications Licenses Front End Development January 2018 to Present UCSD Certification UX Design January 2018 to Present UCSD Certification Groups Verio Web Hosting Partner January 1997 to Present Verio Web Hosting Product Reseller providing web hosting services for client a ounts Microsoft Dev Partner January 1997 to Present Microsoft Development Partner MySQL Certified Professionals January 2010 to Present LinkedIn Group of professionals specializing in MySQL Database Development Additional Information SOFTWARE PROFICIENCY Adobe CC 2018 Products Adobe Cloud Platform AI Adobe Sensei Photoshop Illustrator InDesign Adobe XD Dreamweaver InDesign Analytics Advertising Cloud Acrobat Pro Document Cloud Google Products Google Docs Sheets Slides Forms Google Business G Suite Google Ads Google Analytics Analytics for Mobile Apps Tag Manager Think with Google Google Optimize Content Management Platforms WordPress Bootstrap Foundation Drupal Joomla Sass File Management Tools PhpStorm SmartSVN Bower Grunt frameworks and GIT code Collaboration Design Development Tools Real time Board Slack Trello Jira Figma Wire framing Prototyping tools Indigo Design InVision Figma Sketch AdobeUXD Gridbox Principle Atomic UXPIn WebFlow VISIO Balsamic Axure OmniGraffle Mobile Design Jetstrap Zeplin Principle Agile Tools Jira Git and other proprietary software User Research Tools Airtable Google Analytics MS Office Microsoft Visual Studio GEdit UltraEdit SharePoint Text Editors Atom Dreamweaver Sublime Text Notepad Komodo Edit IDE Brackets eCommerce Shopify Shopsite Magneto OpenCart VirtueMart WooCommerce WordPress Created HTML email templates for e mail marketing campaigns using Constant Contact Drip ConvertKit AWeber GetResponse MailChimp \",\n          \"Java Developer Java Developer Java Developer ATOS To obtain a job within my chosen field that will challenge me and allow me to use my education skills and past experiences in a way that is mutually beneficial to both myself and my employer and allow for future growth and advancement Employer ATOS Global IT Solutions and Services Private Limited Work Experience Java Developer ATOS March 2017 to Present Duration March 2017 to Present Role Java Developer Team Size 10 Roles and Responsibilities Working on developing new features suggested by user as well provides fixes for bugs Working on controller DAO and model classes Configured dispatcher servlet view resolvers global exception handlers etc Perform all the deployment related work Project 2 Bid Price Analysis Tool ATOS Global B PS Description The main objective of this application is to arrive at a more a urate price to win at an early stage of a deal Technologies Used Java Struts2 MySQL Software Engineer April 2016 to Present Professional Skills Ability to adapt various technologies as per the need of the project Ability to work in a team Ability to communicate well with the team Ability to take up challenging roles and working on a wide range of technologies Technical Skills Technologies Core Java SQL Hibernate Frameworks Struts 2 Spring Core Spring MVC Tools Used Eclipse IDE Apache Tomcat JBOSS Projects Project 1 PARMA ATOS Global IT Solutions and Services Private Limited Description The main objective of this application is to assist a project manager in developing a project plan assigning resources to build team managing the project efforts analysing workloads perform project reports and managing and generating Contract and Project RDD data on weekly and monthly basis Technologies Used Java Spring MySQL Java Developer ATOS August 2016 to January 2017 Duration Aug 2016 to Jan 2017 Role Java Developer Team Size 3 Roles and Responsibilities My task included developing this application and implementing new features based on the requirement and also provide bug fixing Implemented connectivity with database by using JDBC Created database tables All the deployment related work Created web pages using JSP Education CDAC 2016 State Board 2008\"\n        ],\n        \"semantic_type\": \"\",\n        \"description\": \"\"\n      }\n    },\n    {\n      \"column\": \"Category\",\n      \"properties\": {\n        \"dtype\": \"category\",\n        \"num_unique_values\": 10,\n        \"samples\": [\n          \"Web_Developer\",\n          \"Java_Developer\",\n          \"Security_Analyst\"\n        ],\n        \"semantic_type\": \"\",\n        \"description\": \"\"\n      }\n    }\n  ]\n}"
            }
          },
          "metadata": {},
          "execution_count": 75
        }
      ]
    },
    {
      "cell_type": "code",
      "source": [
        "from sklearn.preprocessing import LabelEncoder\n",
        "le=LabelEncoder()\n",
        "le.fit(df['Category'])\n",
        "df['Category']=le.transform(df['Category'])"
      ],
      "metadata": {
        "id": "X_PvEw7O5RZT"
      },
      "execution_count": 76,
      "outputs": []
    },
    {
      "cell_type": "code",
      "source": [
        "df.Category.unique()"
      ],
      "metadata": {
        "colab": {
          "base_uri": "https://localhost:8080/"
        },
        "id": "6PzMWZsr51hO",
        "outputId": "1bbdd1c0-bb03-4e47-99e8-0de35c90edb6"
      },
      "execution_count": 77,
      "outputs": [
        {
          "output_type": "execute_result",
          "data": {
            "text/plain": [
              "array([5, 2, 1, 3, 4, 6, 7, 8, 9, 0])"
            ]
          },
          "metadata": {},
          "execution_count": 77
        }
      ]
    },
    {
      "cell_type": "code",
      "source": [
        "\n",
        "#array(['Python_Developer', 'Java_Developer', 'Front_End_Developer',\n",
        " #      'Network_Administrator', 'Project_manager', 'Security_Analyst',\n",
        "  #     'Software_Developer', 'Systems_Administrator', 'Web_Developer',\n",
        "   #    'Database_Administrator'], dtype=object)\n"
      ],
      "metadata": {
        "id": "S31nRSb_Lfow"
      },
      "execution_count": 78,
      "outputs": []
    },
    {
      "cell_type": "code",
      "source": [
        "df['Resume'][10]"
      ],
      "metadata": {
        "colab": {
          "base_uri": "https://localhost:8080/",
          "height": 123
        },
        "id": "WhqcDiSG53nx",
        "outputId": "20aed47f-c63d-4873-8cab-edb72c7adc8c"
      },
      "execution_count": 79,
      "outputs": [
        {
          "output_type": "execute_result",
          "data": {
            "text/plain": [
              "'Infrastructure Engineer Infrastructure Engineer Python Developer Transparent Language Manchester NH Professional Learner Currently working as a python developer with 5 years of experience Involved in development of microservices creation maintenance of automated CI pipelines and logging and monitoring tools Authorized to work in the US for any employer Work Experience Infrastructure Engineer Liberty Mutual Dover NH April 2019 to Present Maintain and support IBM BPM Websphere Applications Containerize legacy applications Support implement automation using python and other scripting languages Python Developer Transparent Language Nashua NH February 2014 to April 2019 Worked with a team to develop and maintain 90 microservice applications Implement and maintain monitoring and logging tools to support a growing microservice infrastructure Create and maintain continuous integration deployment pipelines QA Tester Transparent Language Nashua NH August 2012 to February 2014 Manual testing of the Transparent Language language learning software websites and services Training new hires Responsible for the creation of test plans Education New Hampshire Technical Institute Concord NH 2011 to 2016 Skills elasticsearch jira linux nginx redis Git docker ansible flask prometheus logstash mongo uwsgi vagrant bitbucket bamboo Python Jenkins Less than 1 year Links https github com projectaur'"
            ],
            "application/vnd.google.colaboratory.intrinsic+json": {
              "type": "string"
            }
          },
          "metadata": {},
          "execution_count": 79
        }
      ]
    },
    {
      "cell_type": "code",
      "source": [
        "from sklearn.feature_extraction.text import TfidfVectorizer\n",
        "tfidf=TfidfVectorizer(stop_words='english',)\n",
        "\n",
        "tfidf.fit(df['Resume'])\n",
        "required=tfidf.transform(df['Resume'])\n"
      ],
      "metadata": {
        "id": "Bm7YQvBX6S3Q"
      },
      "execution_count": 80,
      "outputs": []
    },
    {
      "cell_type": "code",
      "source": [
        "required"
      ],
      "metadata": {
        "colab": {
          "base_uri": "https://localhost:8080/"
        },
        "id": "CSuUfxLV7KN5",
        "outputId": "e2b46379-d669-4ab4-8321-6186896b5ef7"
      },
      "execution_count": 104,
      "outputs": [
        {
          "output_type": "execute_result",
          "data": {
            "text/plain": [
              "<8234x69562 sparse matrix of type '<class 'numpy.float64'>'\n",
              "\twith 3105985 stored elements in Compressed Sparse Row format>"
            ]
          },
          "metadata": {},
          "execution_count": 104
        }
      ]
    },
    {
      "cell_type": "code",
      "source": [
        "from sklearn.model_selection import train_test_split\n",
        "X_train,X_test,y_train,y_test=train_test_split(required,df['Category'],train_size=0.2,random_state=2)"
      ],
      "metadata": {
        "id": "jTGyyK0R7oGc"
      },
      "execution_count": 82,
      "outputs": []
    },
    {
      "cell_type": "code",
      "source": [
        "#Algorithm\n",
        "from sklearn.neighbors import KNeighborsClassifier\n",
        "from sklearn.metrics import accuracy_score,confusion_matrix,classification_report\n",
        "from sklearn.multiclass import OneVsRestClassifier\n",
        "knn=OneVsRestClassifier(KNeighborsClassifier())"
      ],
      "metadata": {
        "id": "0Gn0wZ8t8lFs"
      },
      "execution_count": 83,
      "outputs": []
    },
    {
      "cell_type": "code",
      "source": [
        "\n",
        "knn.fit(X_train,y_train)\n",
        "\n",
        "y_pred=knn.predict(X_test)\n",
        "print(\"accurcay_score is \",accuracy_score(y_test,y_pred))\n",
        "print(y_pred)"
      ],
      "metadata": {
        "colab": {
          "base_uri": "https://localhost:8080/"
        },
        "id": "KPwePAFW9stx",
        "outputId": "6d53a5ae-2812-4300-8f3b-945d0f1cf2d7"
      },
      "execution_count": 84,
      "outputs": [
        {
          "output_type": "stream",
          "name": "stdout",
          "text": [
            "accurcay_score is  0.8040376442015786\n",
            "[9 5 5 ... 9 2 6]\n"
          ]
        }
      ]
    },
    {
      "cell_type": "code",
      "source": [
        "#RandomForest Algorithm\n",
        "from sklearn.ensemble import RandomForestClassifier\n",
        "from sklearn.metrics import accuracy_score\n",
        "rfc=RandomForestClassifier()\n",
        "rfc.fit(X_train,y_train)\n",
        "y_pred=rfc.predict(X_test)\n",
        "print((\"accuracy_score\",accuracy_score(y_test,y_pred)))"
      ],
      "metadata": {
        "id": "R49HDJzy-a6c",
        "colab": {
          "base_uri": "https://localhost:8080/"
        },
        "outputId": "345b7e77-f58a-43d6-8a80-c884a4d8ee26"
      },
      "execution_count": 85,
      "outputs": [
        {
          "output_type": "stream",
          "name": "stdout",
          "text": [
            "('accuracy_score', 0.8268063145112325)\n"
          ]
        }
      ]
    },
    {
      "cell_type": "code",
      "source": [
        "print(y_pred)"
      ],
      "metadata": {
        "id": "dfNaPCL2Ar0y",
        "colab": {
          "base_uri": "https://localhost:8080/"
        },
        "outputId": "69baead6-26a4-408c-d535-292f86568f3f"
      },
      "execution_count": 86,
      "outputs": [
        {
          "output_type": "stream",
          "name": "stdout",
          "text": [
            "[9 5 5 ... 6 2 3]\n"
          ]
        }
      ]
    },
    {
      "cell_type": "code",
      "source": [
        "y_pred\n"
      ],
      "metadata": {
        "colab": {
          "base_uri": "https://localhost:8080/"
        },
        "id": "vJV8hEjyxw55",
        "outputId": "c9973510-bc24-41bb-dfb3-4999ccb3a560"
      },
      "execution_count": 87,
      "outputs": [
        {
          "output_type": "execute_result",
          "data": {
            "text/plain": [
              "array([9, 5, 5, ..., 6, 2, 3])"
            ]
          },
          "metadata": {},
          "execution_count": 87
        }
      ]
    },
    {
      "cell_type": "code",
      "source": [
        "#extra trees classifierfrom skle\n",
        "from sklearn.ensemble import ExtraTreesClassifier\n",
        "from sklearn.metrics import accuracy_score,confusion_matrix,classification_report\n",
        "etc=ExtraTreesClassifier()\n",
        "etc.fit(X_train,y_train)\n",
        "y_pred=etc.predict(X_test)\n",
        "print(\"accurcay_score\",accuracy_score(y_test,y_pred))\n"
      ],
      "metadata": {
        "colab": {
          "base_uri": "https://localhost:8080/"
        },
        "id": "3gsQOSSdyFuq",
        "outputId": "7aa29322-6873-497c-acba-ca31d2ac675c"
      },
      "execution_count": 88,
      "outputs": [
        {
          "output_type": "stream",
          "name": "stdout",
          "text": [
            "accurcay_score 0.8107164541590771\n"
          ]
        }
      ]
    },
    {
      "cell_type": "code",
      "source": [],
      "metadata": {
        "id": "-TBUsf0WEq36"
      },
      "execution_count": 88,
      "outputs": []
    },
    {
      "cell_type": "code",
      "source": [
        "from sklearn.naive_bayes import MultinomialNB,GaussianNB,BernoulliNB\n",
        "from sklearn.metrics import accuracy_score\n",
        "mnb=MultinomialNB()\n",
        "mnb.fit(X_train,y_train)\n",
        "y_pred=mnb.predict(X_test)\n",
        "print(\"accurcay_score\",accuracy_score(y_test,y_pred))"
      ],
      "metadata": {
        "colab": {
          "base_uri": "https://localhost:8080/"
        },
        "id": "VWvfQd5E-oeM",
        "outputId": "63f965b9-6d9d-4fd2-c116-a9c134abea4c"
      },
      "execution_count": 89,
      "outputs": [
        {
          "output_type": "stream",
          "name": "stdout",
          "text": [
            "accurcay_score 0.6953551912568307\n"
          ]
        }
      ]
    },
    {
      "cell_type": "code",
      "source": [
        "#predict system\n",
        "import pickle\n",
        "pickle.dump(tfidf,open('tfidf.pkl','wb'))\n",
        "pickle.dump(rfc,open('model.pkl','wb'))"
      ],
      "metadata": {
        "id": "U2HMkQfHG1aw"
      },
      "execution_count": 90,
      "outputs": []
    },
    {
      "cell_type": "code",
      "source": [
        "myresume=\"\"\"\n",
        "\n",
        "\"\"\"\n"
      ],
      "metadata": {
        "id": "fAdKIhH4JlXF"
      },
      "execution_count": 102,
      "outputs": []
    },
    {
      "cell_type": "code",
      "source": [
        "import pickle\n",
        "rfc=pickle.load(open('model.pkl','rb'))\n",
        "\n",
        "cleaned_resume=cleanResume(myresume)\n",
        "input_features=tfidf.transform([cleaned_resume])\n",
        "prediction=rfc.predict(input_features)\n",
        "print(prediction)"
      ],
      "metadata": {
        "colab": {
          "base_uri": "https://localhost:8080/"
        },
        "id": "ofPcNgStKXoh",
        "outputId": "4a3cf553-177e-42e3-f5aa-5a16614484be"
      },
      "execution_count": 103,
      "outputs": [
        {
          "output_type": "stream",
          "name": "stdout",
          "text": [
            "[4]\n"
          ]
        }
      ]
    },
    {
      "cell_type": "code",
      "source": [],
      "metadata": {
        "id": "syCj-xjHKkPC"
      },
      "execution_count": null,
      "outputs": []
    }
  ]
}